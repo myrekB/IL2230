{
 "cells": [
  {
   "cell_type": "markdown",
   "id": "440d09d1",
   "metadata": {},
   "source": [
    "## Import libaires and MNIST dataset"
   ]
  },
  {
   "cell_type": "code",
   "execution_count": 1,
   "id": "6bfac1e3",
   "metadata": {},
   "outputs": [],
   "source": [
    "import torch\n",
    "import torchvision\n",
    "import torchvision.datasets as datasets\n",
    "from torchvision.transforms import ToTensor\n",
    "import torch.nn as nn\n",
    "import torch.optim as optim\n",
    "import torch.autograd.profiler as profiler"
   ]
  },
  {
   "cell_type": "code",
   "execution_count": 2,
   "id": "f806cf24",
   "metadata": {},
   "outputs": [
    {
     "name": "stdout",
     "output_type": "stream",
     "text": [
      "Downloading http://yann.lecun.com/exdb/mnist/train-images-idx3-ubyte.gz\n",
      "Downloading http://yann.lecun.com/exdb/mnist/train-images-idx3-ubyte.gz to ./data\\MNIST\\raw\\train-images-idx3-ubyte.gz\n"
     ]
    },
    {
     "name": "stderr",
     "output_type": "stream",
     "text": [
      "100%|████████████████████████████████████████████████████████████████████| 9912422/9912422 [00:13<00:00, 709433.94it/s]\n"
     ]
    },
    {
     "name": "stdout",
     "output_type": "stream",
     "text": [
      "Extracting ./data\\MNIST\\raw\\train-images-idx3-ubyte.gz to ./data\\MNIST\\raw\n",
      "\n",
      "Downloading http://yann.lecun.com/exdb/mnist/train-labels-idx1-ubyte.gz\n",
      "Downloading http://yann.lecun.com/exdb/mnist/train-labels-idx1-ubyte.gz to ./data\\MNIST\\raw\\train-labels-idx1-ubyte.gz\n"
     ]
    },
    {
     "name": "stderr",
     "output_type": "stream",
     "text": [
      "100%|███████████████████████████████████████████████████████████████████████| 28881/28881 [00:00<00:00, 1305144.63it/s]\n"
     ]
    },
    {
     "name": "stdout",
     "output_type": "stream",
     "text": [
      "Extracting ./data\\MNIST\\raw\\train-labels-idx1-ubyte.gz to ./data\\MNIST\\raw\n",
      "\n",
      "Downloading http://yann.lecun.com/exdb/mnist/t10k-images-idx3-ubyte.gz\n",
      "Downloading http://yann.lecun.com/exdb/mnist/t10k-images-idx3-ubyte.gz to ./data\\MNIST\\raw\\t10k-images-idx3-ubyte.gz\n"
     ]
    },
    {
     "name": "stderr",
     "output_type": "stream",
     "text": [
      "100%|████████████████████████████████████████████████████████████████████| 1648877/1648877 [00:02<00:00, 690077.59it/s]\n"
     ]
    },
    {
     "name": "stdout",
     "output_type": "stream",
     "text": [
      "Extracting ./data\\MNIST\\raw\\t10k-images-idx3-ubyte.gz to ./data\\MNIST\\raw\n",
      "\n",
      "Downloading http://yann.lecun.com/exdb/mnist/t10k-labels-idx1-ubyte.gz\n",
      "Downloading http://yann.lecun.com/exdb/mnist/t10k-labels-idx1-ubyte.gz to ./data\\MNIST\\raw\\t10k-labels-idx1-ubyte.gz\n"
     ]
    },
    {
     "name": "stderr",
     "output_type": "stream",
     "text": [
      "100%|██████████████████████████████████████████████████████████████████████████████████████| 4542/4542 [00:00<?, ?it/s]"
     ]
    },
    {
     "name": "stdout",
     "output_type": "stream",
     "text": [
      "Extracting ./data\\MNIST\\raw\\t10k-labels-idx1-ubyte.gz to ./data\\MNIST\\raw\n",
      "\n"
     ]
    },
    {
     "name": "stderr",
     "output_type": "stream",
     "text": [
      "\n"
     ]
    }
   ],
   "source": [
    "T = torchvision.transforms.Compose([\n",
    "    torchvision.transforms.ToTensor()\n",
    "])\n",
    "\n",
    "mnist_trainset = datasets.MNIST(root='./data', train=True, download=True, transform=T)\n",
    "mnist_testset = datasets.MNIST(root='./data', train=False, download=True, transform=T)\n",
    "\n",
    "\n",
    "#Number of batch\n",
    "numb_batch = 30\n",
    "\n",
    "train_loader = torch.utils.data.DataLoader(mnist_trainset, batch_size = numb_batch)\n",
    "test_loader = torch.utils.data.DataLoader(mnist_testset, batch_size = numb_batch)\n"
   ]
  },
  {
   "cell_type": "markdown",
   "id": "9dd255ba",
   "metadata": {},
   "source": [
    "## Checking the data"
   ]
  },
  {
   "cell_type": "code",
   "execution_count": 3,
   "id": "f79adf08",
   "metadata": {},
   "outputs": [
    {
     "name": "stdout",
     "output_type": "stream",
     "text": [
      "Length of trainset: 60000\n",
      "Length of testset: 10000\n",
      "Input size of one image: torch.Size([1, 28, 28])\n"
     ]
    }
   ],
   "source": [
    "len_mnist_train = len(mnist_trainset)\n",
    "len_mnist_test = len(mnist_testset)\n",
    "input_size = mnist_trainset[0][0].shape\n",
    "\n",
    "print(\"Length of trainset:\", len_mnist_train)\n",
    "print(\"Length of testset:\", len_mnist_test)\n",
    "print(f\"Input size of one image: {input_size}\")\n"
   ]
  },
  {
   "cell_type": "markdown",
   "id": "21654ef0",
   "metadata": {},
   "source": [
    "## Define the network (ANN)"
   ]
  },
  {
   "cell_type": "markdown",
   "id": "c0444c8b",
   "metadata": {},
   "source": [
    "There should be two different versions of the ANN:\n",
    "\n",
    "1. MLP1: Only one hidden layer with a step size of 30, so here we try different number of neurons\n",
    "2. MLP2: Here we have two layers: One layer is 300 for the first layer and 100 for the second layer. Here we could play around with a stepsize of 50 for the first layer and 20 for the second layer\n"
   ]
  },
  {
   "cell_type": "markdown",
   "id": "2424c17f",
   "metadata": {},
   "source": [
    "### MLP-1"
   ]
  },
  {
   "cell_type": "code",
   "execution_count": 4,
   "id": "61b2f5f1",
   "metadata": {},
   "outputs": [],
   "source": [
    "class MLP(nn.Module):\n",
    "    def __init__(self,n_hidden_layer):\n",
    "        super(MLP, self).__init__()\n",
    "        \n",
    "        #Input will be 28*28 and output will be 10\n",
    "        self.input_layer = nn.Linear(28*28,n_hidden_layer)\n",
    "        self.hidden_layer = nn.Linear(n_hidden_layer,10)\n",
    "        \n",
    "    def forward(self, x):\n",
    "        x = self.input_layer(x)\n",
    "        x = torch.relu(x)  #Here we use the ReLu, it often works fine\n",
    "        x = self.hidden_layer(x)\n",
    "        \n",
    "        return x"
   ]
  },
  {
   "cell_type": "markdown",
   "id": "f131c099",
   "metadata": {},
   "source": [
    "#### Creating several MLP-1"
   ]
  },
  {
   "cell_type": "code",
   "execution_count": 5,
   "id": "a8c4eab3",
   "metadata": {},
   "outputs": [],
   "source": [
    "mlp_1_models = []\n",
    "hidden_neurons = 30\n",
    "\n",
    "for i in range(10):\n",
    "    #Creating the model\n",
    "    model = MLP(hidden_neurons)\n",
    "    #Optimizer and loss\n",
    "    #optimizer = optim.SGD(model.parameters(), lr=0.01, momentum=0.9)\n",
    "    #criterion = nn.CrossEntropyLoss()\n",
    "    #Append to list\n",
    "    mlp_1_models.append(model)\n",
    "    \n",
    "    hidden_neurons = hidden_neurons + 30"
   ]
  },
  {
   "cell_type": "markdown",
   "id": "dc6f32b3",
   "metadata": {},
   "source": [
    "## Training"
   ]
  },
  {
   "cell_type": "code",
   "execution_count": 6,
   "id": "da00c4f2",
   "metadata": {},
   "outputs": [],
   "source": [
    "def traning_func(num_epochs, model,file_name):\n",
    "    \n",
    "    loss_each_epoch = []\n",
    "    \n",
    "    test_model = model\n",
    "\n",
    "    optimizer = optim.SGD(model.parameters(), lr=0.01, momentum=0.9)\n",
    "    criterion = nn.CrossEntropyLoss()\n",
    "\n",
    "    for epoch in range(num_epochs):\n",
    "        running_loss = 0\n",
    "    \n",
    "        for images, labels in train_loader:\n",
    "            #Here we havet to first flatten the image so we go from 28,28 to 784\n",
    "            images = images.view(images.shape[0],-1)\n",
    "            #Resetting the gradient\n",
    "            optimizer.zero_grad()\n",
    "        \n",
    "            #Forward propagation\n",
    "            output = test_model(images)\n",
    "        \n",
    "            #Calculate the loss\n",
    "            loss = criterion(output,labels)\n",
    "        \n",
    "            #Backpropagation\n",
    "            loss.backward()\n",
    "            optimizer.step()\n",
    "        \n",
    "            #Accumelated loss for the whole epoch\n",
    "            running_loss += loss.item()\n",
    "        else:\n",
    "            \n",
    "            loss_each_epoch.append(running_loss/len(train_loader))\n",
    "            \n",
    "    model_filename = f'MLP_1_{30*file_name}.pth'\n",
    "    torch.save(model.state_dict(), model_filename)\n",
    "            \n",
    "    return loss_each_epoch\n"
   ]
  },
  {
   "cell_type": "raw",
   "id": "10445c0a",
   "metadata": {},
   "source": [
    "num_epoch = 5\n",
    "\n",
    "#So loss array should directly correspond to the amount of epoch and the number of different models\n",
    "loss_array = []\n",
    "\n",
    "r = 0\n",
    "for k in mlp_1_models:\n",
    "    loss_array.append(traning_func(num_epoch,k,r+1))\n",
    "    \n",
    "    print(\"MLP-1 Model with a hidden layer of: {} neurons is trained\".format(30+30*r))\n",
    "    r = r +1\n",
    "        \n",
    "print(\"Training is completed\")"
   ]
  },
  {
   "cell_type": "markdown",
   "id": "0d3d55ff",
   "metadata": {},
   "source": [
    "## Testing"
   ]
  },
  {
   "cell_type": "code",
   "execution_count": 7,
   "id": "8f74fc34",
   "metadata": {},
   "outputs": [],
   "source": [
    "def test_func(model): \n",
    "\n",
    "    correct = 0\n",
    "    total = 0\n",
    "\n",
    "    with torch.no_grad():\n",
    "        for images, labels in test_loader:\n",
    "        \n",
    "            images = images.view(images.shape[0],-1)\n",
    "\n",
    "            output = model(images)\n",
    "        \n",
    "            _, predicted = torch.max(output.data,1)\n",
    "            total += labels.size(0)\n",
    "            correct += (predicted == labels).sum().item()\n",
    "\n",
    "    print(\"Accuracy of the network: {} %\".format(100*correct//total))\n",
    "    "
   ]
  },
  {
   "cell_type": "markdown",
   "id": "806f8853",
   "metadata": {},
   "source": [
    "## Inference performance"
   ]
  },
  {
   "cell_type": "code",
   "execution_count": 8,
   "id": "68fdc0c0",
   "metadata": {},
   "outputs": [],
   "source": [
    "import torch.autograd.profiler as profiler\n",
    "\n",
    "def inference_func(model):\n",
    "    with profiler.profile(record_shapes=True,profile_memory=True) as prof:\n",
    "        with torch.no_grad():\n",
    "            \n",
    "            #output = model(test_data)\n",
    "            test_func(model)\n",
    "\n",
    "    cpu_time = prof.self_cpu_time_total\n",
    "    memory_summary = prof.key_averages().table(sort_by=\"self_cpu_memory_usage\", row_limit=10)\n",
    "    \n",
    "    print(f\"Total CPU Time: {cpu_time*10**-6} seconds\")\n",
    "    print(memory_summary)\n",
    "  "
   ]
  },
  {
   "cell_type": "markdown",
   "id": "7eeaecf1",
   "metadata": {},
   "source": [
    "## All the data for MLP-1"
   ]
  },
  {
   "cell_type": "code",
   "execution_count": 9,
   "id": "536b0613",
   "metadata": {},
   "outputs": [
    {
     "name": "stdout",
     "output_type": "stream",
     "text": [
      "Model: MLP-1 with 30 neurons in hidden layer\n",
      "Accuracy of the network: 95 %\n",
      "Total CPU Time: 1.900607 seconds\n",
      "-------------------------------------------------------  ------------  ------------  ------------  ------------  ------------  ------------  ------------  ------------  \n",
      "                                                   Name    Self CPU %      Self CPU   CPU total %     CPU total  CPU time avg       CPU Mem  Self CPU Mem    # of Calls  \n",
      "-------------------------------------------------------  ------------  ------------  ------------  ------------  ------------  ------------  ------------  ------------  \n",
      "                                    aten::empty_strided         1.96%      37.292ms         1.96%      37.292ms       1.834us      30.00 Mb      30.00 Mb         20334  \n",
      "                                              aten::cat         0.34%       6.473ms         0.34%       6.473ms      19.380us      29.91 Mb      29.91 Mb           334  \n",
      "                                              aten::div         3.57%      67.777ms         8.04%     152.771ms      15.277us      29.91 Mb      29.87 Mb         10000  \n",
      "                                            aten::addmm         1.53%      29.002ms         1.80%      34.141ms      51.109us       1.53 Mb       1.53 Mb           668  \n",
      "                                        aten::clamp_min         0.13%       2.435ms         0.13%       2.435ms       7.290us       1.14 Mb       1.14 Mb           334  \n",
      "                                               aten::to         1.89%      35.979ms        11.38%     216.320ms       7.054us      30.02 Mb     316.54 Kb         30668  \n",
      "                                              aten::max         0.44%       8.309ms         0.67%      12.673ms      37.943us     117.19 Kb     117.19 Kb           334  \n",
      "                                            aten::empty         0.05%     935.000us         0.05%     935.000us       2.791us      75.32 Kb      75.32 Kb           335  \n",
      "                                         aten::_to_copy         5.20%      98.799ms        10.20%     193.843ms       9.533us      30.02 Mb      20.08 Kb         20334  \n",
      "                                             aten::relu         0.06%       1.162ms         0.19%       3.569ms      10.686us       1.14 Mb      14.06 Kb           334  \n",
      "-------------------------------------------------------  ------------  ------------  ------------  ------------  ------------  ------------  ------------  ------------  \n",
      "Self CPU time total: 1.901s\n",
      "\n",
      "______________________________________________________________________\n",
      "Model: MLP-1 with 60 neurons in hidden layer\n",
      "Accuracy of the network: 96 %\n",
      "Total CPU Time: 1.9240499999999998 seconds\n",
      "-------------------------------------------------------  ------------  ------------  ------------  ------------  ------------  ------------  ------------  ------------  \n",
      "                                                   Name    Self CPU %      Self CPU   CPU total %     CPU total  CPU time avg       CPU Mem  Self CPU Mem    # of Calls  \n",
      "-------------------------------------------------------  ------------  ------------  ------------  ------------  ------------  ------------  ------------  ------------  \n",
      "                                    aten::empty_strided         2.01%      38.672ms         2.01%      38.672ms       1.902us      30.01 Mb      30.01 Mb         20334  \n",
      "                                              aten::cat         0.32%       6.241ms         0.32%       6.241ms      18.686us      29.91 Mb      29.91 Mb           334  \n",
      "                                              aten::div         3.64%      70.059ms         8.20%     157.772ms      15.777us      29.91 Mb      29.87 Mb         10000  \n",
      "                                            aten::addmm         1.90%      36.558ms         2.17%      41.791ms      62.561us       2.67 Mb       2.67 Mb           668  \n",
      "                                        aten::clamp_min         0.15%       2.972ms         0.15%       2.972ms       8.898us       2.29 Mb       2.29 Mb           334  \n",
      "                                               aten::to         1.89%      36.457ms        11.56%     222.338ms       7.250us      30.02 Mb     306.43 Kb         30668  \n",
      "                                              aten::max         0.37%       7.212ms         0.60%      11.628ms      34.814us     117.19 Kb     117.19 Kb           334  \n",
      "                                            aten::empty         0.04%     860.000us         0.04%     860.000us       2.567us      76.02 Kb      76.02 Kb           335  \n",
      "                                         aten::_to_copy         5.28%     101.599ms        10.32%     198.501ms       9.762us      30.02 Mb      10.05 Kb         20334  \n",
      "                                               aten::eq         0.12%       2.330ms         0.12%       2.330ms       6.976us       9.77 Kb       9.77 Kb           334  \n",
      "-------------------------------------------------------  ------------  ------------  ------------  ------------  ------------  ------------  ------------  ------------  \n",
      "Self CPU time total: 1.924s\n",
      "\n",
      "______________________________________________________________________\n",
      "Model: MLP-1 with 90 neurons in hidden layer\n",
      "Accuracy of the network: 96 %\n",
      "Total CPU Time: 1.99396 seconds\n",
      "-------------------------------------------------------  ------------  ------------  ------------  ------------  ------------  ------------  ------------  ------------  \n",
      "                                                   Name    Self CPU %      Self CPU   CPU total %     CPU total  CPU time avg       CPU Mem  Self CPU Mem    # of Calls  \n",
      "-------------------------------------------------------  ------------  ------------  ------------  ------------  ------------  ------------  ------------  ------------  \n",
      "                                    aten::empty_strided         1.86%      37.164ms         1.86%      37.164ms       1.828us      30.00 Mb      30.00 Mb         20334  \n",
      "                                              aten::cat         0.34%       6.773ms         0.34%       6.773ms      20.278us      29.91 Mb      29.91 Mb           334  \n",
      "                                              aten::div         3.68%      73.313ms         7.92%     158.014ms      15.801us      29.91 Mb      29.87 Mb         10000  \n",
      "                                            aten::addmm         2.13%      42.505ms         2.43%      48.517ms      72.630us       3.81 Mb       3.81 Mb           668  \n",
      "                                        aten::clamp_min         0.16%       3.247ms         0.16%       3.247ms       9.722us       3.43 Mb       3.43 Mb           334  \n",
      "                                               aten::to         1.83%      36.464ms        11.23%     223.832ms       7.299us      30.02 Mb     369.93 Kb         30668  \n",
      "                                              aten::max         0.39%       7.751ms         0.63%      12.467ms      37.326us     117.19 Kb     117.19 Kb           334  \n",
      "                                            aten::empty         0.05%     985.000us         0.05%     985.000us       2.940us      75.09 Kb      75.09 Kb           335  \n",
      "                                         aten::_to_copy         5.10%     101.682ms         9.96%     198.600ms       9.767us      30.02 Mb      19.21 Kb         20334  \n",
      "                                               aten::eq         0.12%       2.320ms         0.12%       2.320ms       6.946us       9.77 Kb       9.77 Kb           334  \n",
      "-------------------------------------------------------  ------------  ------------  ------------  ------------  ------------  ------------  ------------  ------------  \n",
      "Self CPU time total: 1.994s\n",
      "\n",
      "______________________________________________________________________\n",
      "Model: MLP-1 with 120 neurons in hidden layer\n",
      "Accuracy of the network: 96 %\n",
      "Total CPU Time: 2.061967 seconds\n",
      "-------------------------------------------------------  ------------  ------------  ------------  ------------  ------------  ------------  ------------  ------------  \n",
      "                                                   Name    Self CPU %      Self CPU   CPU total %     CPU total  CPU time avg       CPU Mem  Self CPU Mem    # of Calls  \n",
      "-------------------------------------------------------  ------------  ------------  ------------  ------------  ------------  ------------  ------------  ------------  \n",
      "                                    aten::empty_strided         2.05%      42.204ms         2.05%      42.204ms       2.076us      29.99 Mb      29.99 Mb         20334  \n",
      "                                              aten::cat         0.34%       7.074ms         0.34%       7.074ms      21.180us      29.91 Mb      29.91 Mb           334  \n",
      "                                              aten::div         3.60%      74.209ms         7.96%     164.073ms      16.407us      29.91 Mb      29.87 Mb         10000  \n",
      "                                            aten::addmm         2.37%      48.966ms         2.68%      55.159ms      82.573us       4.96 Mb       4.96 Mb           668  \n",
      "                                        aten::clamp_min         0.17%       3.590ms         0.17%       3.590ms      10.749us       4.58 Mb       4.58 Mb           334  \n",
      "                                               aten::to         1.80%      37.143ms        11.43%     235.664ms       7.684us      30.02 Mb     387.27 Kb         30668  \n",
      "                                              aten::max         0.40%       8.211ms         0.63%      13.043ms      39.051us     117.19 Kb     117.19 Kb           334  \n",
      "                                            aten::empty         0.05%       1.058ms         0.05%       1.058ms       3.158us      74.85 Kb      74.85 Kb           335  \n",
      "                                         aten::_to_copy         5.08%     104.697ms        10.13%     208.922ms      10.275us      30.02 Mb      27.43 Kb         20334  \n",
      "                                               aten::eq         0.10%       2.133ms         0.10%       2.133ms       6.386us       9.77 Kb       9.77 Kb           334  \n",
      "-------------------------------------------------------  ------------  ------------  ------------  ------------  ------------  ------------  ------------  ------------  \n",
      "Self CPU time total: 2.062s\n",
      "\n",
      "______________________________________________________________________\n",
      "Model: MLP-1 with 150 neurons in hidden layer\n"
     ]
    },
    {
     "name": "stdout",
     "output_type": "stream",
     "text": [
      "Accuracy of the network: 96 %\n",
      "Total CPU Time: 2.051252 seconds\n",
      "-------------------------------------------------------  ------------  ------------  ------------  ------------  ------------  ------------  ------------  ------------  \n",
      "                                                   Name    Self CPU %      Self CPU   CPU total %     CPU total  CPU time avg       CPU Mem  Self CPU Mem    # of Calls  \n",
      "-------------------------------------------------------  ------------  ------------  ------------  ------------  ------------  ------------  ------------  ------------  \n",
      "                                    aten::empty_strided         1.83%      37.600ms         1.83%      37.600ms       1.849us      30.00 Mb      30.00 Mb         20334  \n",
      "                                              aten::cat         0.33%       6.670ms         0.33%       6.670ms      19.970us      29.91 Mb      29.91 Mb           334  \n",
      "                                              aten::div         3.73%      76.564ms         7.93%     162.682ms      16.268us      29.91 Mb      29.87 Mb         10000  \n",
      "                                            aten::addmm         2.69%      55.188ms         2.99%      61.350ms      91.841us       6.10 Mb       6.10 Mb           668  \n",
      "                                        aten::clamp_min         0.19%       3.875ms         0.19%       3.875ms      11.602us       5.72 Mb       5.72 Mb           334  \n",
      "                                               aten::to         1.77%      36.270ms        11.22%     230.218ms       7.507us      30.02 Mb     313.89 Kb         30668  \n",
      "                                              aten::max         0.37%       7.492ms         0.60%      12.348ms      36.970us     117.19 Kb     117.19 Kb           334  \n",
      "                                            aten::empty         0.05%     950.000us         0.05%     950.000us       2.836us      76.26 Kb      76.26 Kb           335  \n",
      "                                         aten::_to_copy         5.05%     103.591ms         9.91%     203.372ms      10.002us      30.02 Mb      25.88 Kb         20334  \n",
      "                                             aten::relu         0.06%       1.216ms         0.25%       5.081ms      15.213us       5.72 Mb      17.58 Kb           334  \n",
      "-------------------------------------------------------  ------------  ------------  ------------  ------------  ------------  ------------  ------------  ------------  \n",
      "Self CPU time total: 2.051s\n",
      "\n",
      "______________________________________________________________________\n",
      "Model: MLP-1 with 180 neurons in hidden layer\n",
      "Accuracy of the network: 97 %\n",
      "Total CPU Time: 2.236608 seconds\n",
      "-------------------------------------------------------  ------------  ------------  ------------  ------------  ------------  ------------  ------------  ------------  \n",
      "                                                   Name    Self CPU %      Self CPU   CPU total %     CPU total  CPU time avg       CPU Mem  Self CPU Mem    # of Calls  \n",
      "-------------------------------------------------------  ------------  ------------  ------------  ------------  ------------  ------------  ------------  ------------  \n",
      "                                    aten::empty_strided         1.90%      42.508ms         1.90%      42.508ms       2.090us      29.99 Mb      29.99 Mb         20334  \n",
      "                                              aten::cat         0.33%       7.302ms         0.33%       7.302ms      21.862us      29.91 Mb      29.91 Mb           334  \n",
      "                                              aten::div         3.75%      83.932ms         7.95%     177.783ms      17.778us      29.91 Mb      29.87 Mb         10000  \n",
      "                                            aten::addmm         2.99%      66.837ms         3.28%      73.412ms     109.898us       7.25 Mb       7.25 Mb           668  \n",
      "                                        aten::clamp_min         0.20%       4.439ms         0.20%       4.439ms      13.290us       6.87 Mb       6.87 Mb           334  \n",
      "                                               aten::to         1.75%      39.175ms        11.19%     250.207ms       8.159us      30.02 Mb     495.47 Kb         30668  \n",
      "                                              aten::max         0.39%       8.698ms         0.61%      13.741ms      41.141us     117.19 Kb     117.19 Kb           334  \n",
      "                                            aten::empty         0.05%       1.130ms         0.05%       1.130ms       3.373us      76.49 Kb      76.49 Kb           335  \n",
      "                                         aten::_to_copy         4.99%     111.617ms         9.87%     220.648ms      10.851us      30.02 Mb      30.17 Kb         20334  \n",
      "                                               aten::eq         0.11%       2.530ms         0.11%       2.530ms       7.575us       9.77 Kb       9.77 Kb           334  \n",
      "-------------------------------------------------------  ------------  ------------  ------------  ------------  ------------  ------------  ------------  ------------  \n",
      "Self CPU time total: 2.237s\n",
      "\n",
      "______________________________________________________________________\n",
      "Model: MLP-1 with 210 neurons in hidden layer\n",
      "Accuracy of the network: 97 %\n",
      "Total CPU Time: 2.111995 seconds\n",
      "-------------------------------------------------------  ------------  ------------  ------------  ------------  ------------  ------------  ------------  ------------  \n",
      "                                                   Name    Self CPU %      Self CPU   CPU total %     CPU total  CPU time avg       CPU Mem  Self CPU Mem    # of Calls  \n",
      "-------------------------------------------------------  ------------  ------------  ------------  ------------  ------------  ------------  ------------  ------------  \n",
      "                                    aten::empty_strided         1.84%      38.848ms         1.84%      38.848ms       1.910us      30.01 Mb      30.01 Mb         20334  \n",
      "                                              aten::cat         0.33%       7.050ms         0.33%       7.050ms      21.108us      29.91 Mb      29.91 Mb           334  \n",
      "                                              aten::div         3.70%      78.234ms         7.89%     166.612ms      16.661us      29.91 Mb      29.87 Mb         10000  \n",
      "                                            aten::addmm         3.34%      70.452ms         3.64%      76.971ms     115.226us       8.39 Mb       8.39 Mb           668  \n",
      "                                        aten::clamp_min         0.22%       4.702ms         0.22%       4.702ms      14.078us       8.01 Mb       8.01 Mb           334  \n",
      "                                               aten::to         1.72%      36.308ms        11.20%     236.591ms       7.715us      30.02 Mb     378.66 Kb         30668  \n",
      "                                              aten::max         0.38%       7.987ms         0.61%      12.977ms      38.853us     117.19 Kb     117.19 Kb           334  \n",
      "                                            aten::empty         0.05%       1.115ms         0.05%       1.115ms       3.328us      76.73 Kb      76.73 Kb           335  \n",
      "                                         aten::_to_copy         5.04%     106.348ms         9.88%     208.727ms      10.265us      30.02 Mb      13.28 Kb         20334  \n",
      "                                               aten::eq         0.11%       2.277ms         0.11%       2.277ms       6.817us       9.77 Kb       9.77 Kb           334  \n",
      "-------------------------------------------------------  ------------  ------------  ------------  ------------  ------------  ------------  ------------  ------------  \n",
      "Self CPU time total: 2.112s\n",
      "\n",
      "______________________________________________________________________\n",
      "Model: MLP-1 with 240 neurons in hidden layer\n",
      "Accuracy of the network: 97 %\n",
      "Total CPU Time: 2.481735 seconds\n",
      "-------------------------------------------------------  ------------  ------------  ------------  ------------  ------------  ------------  ------------  ------------  \n",
      "                                                   Name    Self CPU %      Self CPU   CPU total %     CPU total  CPU time avg       CPU Mem  Self CPU Mem    # of Calls  \n",
      "-------------------------------------------------------  ------------  ------------  ------------  ------------  ------------  ------------  ------------  ------------  \n",
      "                                    aten::empty_strided         1.99%      49.294ms         1.99%      49.294ms       2.424us      30.00 Mb      30.00 Mb         20334  \n",
      "                                              aten::cat         0.30%       7.408ms         0.30%       7.408ms      22.180us      29.91 Mb      29.91 Mb           334  \n",
      "                                              aten::div         3.52%      87.319ms         7.49%     185.925ms      18.593us      29.91 Mb      29.87 Mb         10000  \n",
      "                                            aten::addmm         4.30%     106.733ms         4.59%     113.993ms     170.648us       9.54 Mb       9.54 Mb           668  \n",
      "                                        aten::clamp_min         0.24%       5.847ms         0.24%       5.847ms      17.506us       9.16 Mb       9.16 Mb           334  \n",
      "                                               aten::to         2.14%      53.108ms        11.21%     278.195ms       9.071us      30.02 Mb     457.92 Kb         30668  \n",
      "                                              aten::max         0.38%       9.393ms         0.63%      15.745ms      47.141us     117.19 Kb     117.19 Kb           334  \n",
      "                                            aten::empty         0.05%       1.141ms         0.05%       1.141ms       3.406us      76.26 Kb      76.26 Kb           335  \n",
      "                                             aten::relu         0.06%       1.384ms         0.29%       7.218ms      21.611us       9.16 Mb      28.12 Kb           334  \n",
      "                                         aten::_to_copy         4.66%     115.706ms         9.50%     235.739ms      11.593us      30.02 Mb      24.48 Kb         20334  \n",
      "-------------------------------------------------------  ------------  ------------  ------------  ------------  ------------  ------------  ------------  ------------  \n",
      "Self CPU time total: 2.482s\n",
      "\n",
      "______________________________________________________________________\n",
      "Model: MLP-1 with 270 neurons in hidden layer\n"
     ]
    },
    {
     "name": "stdout",
     "output_type": "stream",
     "text": [
      "Accuracy of the network: 97 %\n",
      "Total CPU Time: 2.125835 seconds\n",
      "-------------------------------------------------------  ------------  ------------  ------------  ------------  ------------  ------------  ------------  ------------  \n",
      "                                                   Name    Self CPU %      Self CPU   CPU total %     CPU total  CPU time avg       CPU Mem  Self CPU Mem    # of Calls  \n",
      "-------------------------------------------------------  ------------  ------------  ------------  ------------  ------------  ------------  ------------  ------------  \n",
      "                                    aten::empty_strided         1.82%      38.778ms         1.82%      38.778ms       1.907us      29.97 Mb      29.97 Mb         20334  \n",
      "                                              aten::cat         0.34%       7.230ms         0.34%       7.230ms      21.647us      29.91 Mb      29.91 Mb           334  \n",
      "                                              aten::div         3.63%      77.147ms         7.58%     161.039ms      16.104us      29.91 Mb      29.87 Mb         10000  \n",
      "                                            aten::addmm         3.99%      84.735ms         4.30%      91.394ms     136.817us      10.68 Mb      10.68 Mb           668  \n",
      "                                        aten::clamp_min         0.26%       5.436ms         0.26%       5.436ms      16.275us      10.30 Mb      10.30 Mb           334  \n",
      "                                               aten::to         1.69%      35.828ms        10.76%     228.663ms       7.456us      30.02 Mb     446.68 Kb         30668  \n",
      "                                              aten::max         0.39%       8.227ms         0.62%      13.219ms      39.578us     117.19 Kb     117.19 Kb           334  \n",
      "                                            aten::empty         0.05%       1.045ms         0.05%       1.045ms       3.119us      74.85 Kb      74.85 Kb           335  \n",
      "                                         aten::_to_copy         4.75%     101.081ms         9.55%     203.040ms       9.985us      30.02 Mb      48.18 Kb         20334  \n",
      "                                               aten::eq         0.11%       2.327ms         0.11%       2.327ms       6.967us       9.77 Kb       9.77 Kb           334  \n",
      "-------------------------------------------------------  ------------  ------------  ------------  ------------  ------------  ------------  ------------  ------------  \n",
      "Self CPU time total: 2.126s\n",
      "\n",
      "______________________________________________________________________\n",
      "Model: MLP-1 with 300 neurons in hidden layer\n",
      "Accuracy of the network: 97 %\n",
      "Total CPU Time: 2.152676 seconds\n",
      "-------------------------------------------------------  ------------  ------------  ------------  ------------  ------------  ------------  ------------  ------------  \n",
      "                                                   Name    Self CPU %      Self CPU   CPU total %     CPU total  CPU time avg       CPU Mem  Self CPU Mem    # of Calls  \n",
      "-------------------------------------------------------  ------------  ------------  ------------  ------------  ------------  ------------  ------------  ------------  \n",
      "                                    aten::empty_strided         1.87%      40.362ms         1.87%      40.362ms       1.985us      30.00 Mb      30.00 Mb         20334  \n",
      "                                              aten::cat         0.32%       6.965ms         0.32%       6.965ms      20.853us      29.91 Mb      29.91 Mb           334  \n",
      "                                              aten::div         3.60%      77.522ms         7.69%     165.458ms      16.546us      29.91 Mb      29.87 Mb         10000  \n",
      "                                            aten::addmm         4.26%      91.653ms         4.58%      98.508ms     147.467us      11.83 Mb      11.83 Mb           668  \n",
      "                                        aten::clamp_min         0.26%       5.662ms         0.26%       5.662ms      16.952us      11.44 Mb      11.44 Mb           334  \n",
      "                                               aten::to         1.75%      37.708ms        10.89%     234.396ms       7.643us      30.02 Mb     441.49 Kb         30668  \n",
      "                                              aten::max         0.41%       8.759ms         0.65%      13.944ms      41.749us     117.19 Kb     117.19 Kb           334  \n",
      "                                            aten::empty         0.05%       1.120ms         0.05%       1.120ms       3.343us      75.55 Kb      75.55 Kb           335  \n",
      "                                         aten::_to_copy         4.88%     105.125ms         9.66%     207.986ms      10.228us      30.02 Mb      20.04 Kb         20334  \n",
      "                                               aten::eq         0.11%       2.289ms         0.11%       2.289ms       6.853us       9.77 Kb       9.77 Kb           334  \n",
      "-------------------------------------------------------  ------------  ------------  ------------  ------------  ------------  ------------  ------------  ------------  \n",
      "Self CPU time total: 2.153s\n",
      "\n",
      "______________________________________________________________________\n"
     ]
    }
   ],
   "source": [
    "#We can use the below code if we want\n",
    "\n",
    "#single_data_entry, target = next(iter(test_loader))\n",
    "#single_data_entry = single_data_entry.view(single_data_entry.shape[0], -1)\n",
    "\n",
    "\n",
    "for k in range(10):\n",
    "    \n",
    "    loaded_model = MLP(30*k+30)  # Create an instance of the model\n",
    "    loaded_model.load_state_dict(torch.load(f'MLP_1_{30*k+30}.pth'))\n",
    "    \n",
    "    print(f\"Model: MLP-1 with {30*k+30} neurons in hidden layer\")\n",
    "    inference_func(loaded_model)\n",
    "   \n",
    "    \n",
    "    print(\"______________________________________________________________________\")\n"
   ]
  },
  {
   "cell_type": "code",
   "execution_count": null,
   "id": "9b9dae66",
   "metadata": {},
   "outputs": [],
   "source": []
  }
 ],
 "metadata": {
  "kernelspec": {
   "display_name": "Python 3 (ipykernel)",
   "language": "python",
   "name": "python3"
  },
  "language_info": {
   "codemirror_mode": {
    "name": "ipython",
    "version": 3
   },
   "file_extension": ".py",
   "mimetype": "text/x-python",
   "name": "python",
   "nbconvert_exporter": "python",
   "pygments_lexer": "ipython3",
   "version": "3.11.5"
  }
 },
 "nbformat": 4,
 "nbformat_minor": 5
}
