{
 "cells": [
  {
   "cell_type": "markdown",
   "id": "440d09d1",
   "metadata": {},
   "source": [
    "## Import libaires and MNIST dataset"
   ]
  },
  {
   "cell_type": "code",
   "execution_count": 1,
   "id": "6bfac1e3",
   "metadata": {},
   "outputs": [],
   "source": [
    "import torch\n",
    "import torchvision\n",
    "import torchvision.datasets as datasets\n",
    "from torchvision.transforms import ToTensor\n",
    "import torch.nn as nn\n",
    "import torch.optim as optim\n",
    "import torch.autograd.profiler as profiler"
   ]
  },
  {
   "cell_type": "code",
   "execution_count": 2,
   "id": "f806cf24",
   "metadata": {},
   "outputs": [],
   "source": [
    "T = torchvision.transforms.Compose([\n",
    "    torchvision.transforms.ToTensor()\n",
    "])\n",
    "\n",
    "mnist_trainset = datasets.MNIST(root='./data', train=True, download=True, transform=T)\n",
    "mnist_testset = datasets.MNIST(root='./data', train=False, download=True, transform=T)\n",
    "\n",
    "\n",
    "#Number of batch\n",
    "numb_batch = 30\n",
    "\n",
    "train_loader = torch.utils.data.DataLoader(mnist_trainset, batch_size = numb_batch)\n",
    "test_loader = torch.utils.data.DataLoader(mnist_testset, batch_size = numb_batch)\n"
   ]
  },
  {
   "cell_type": "markdown",
   "id": "9dd255ba",
   "metadata": {},
   "source": [
    "## Checking the data"
   ]
  },
  {
   "cell_type": "code",
   "execution_count": 3,
   "id": "f79adf08",
   "metadata": {},
   "outputs": [
    {
     "name": "stdout",
     "output_type": "stream",
     "text": [
      "Length of trainset: 60000\n",
      "Length of testset: 10000\n",
      "Input size of one image: torch.Size([1, 28, 28])\n"
     ]
    }
   ],
   "source": [
    "len_mnist_train = len(mnist_trainset)\n",
    "len_mnist_test = len(mnist_testset)\n",
    "input_size = mnist_trainset[0][0].shape\n",
    "\n",
    "print(\"Length of trainset:\", len_mnist_train)\n",
    "print(\"Length of testset:\", len_mnist_test)\n",
    "print(f\"Input size of one image: {input_size}\")\n"
   ]
  },
  {
   "cell_type": "markdown",
   "id": "21654ef0",
   "metadata": {},
   "source": [
    "## Define the network (ANN)"
   ]
  },
  {
   "cell_type": "markdown",
   "id": "c0444c8b",
   "metadata": {},
   "source": [
    "There should be two different versions of the ANN:\n",
    "\n",
    "1. MLP1: Only one hidden layer with a step size of 30, so here we try different number of neurons\n",
    "2. MLP2: Here we have two layers: One layer is 300 for the first layer and 100 for the second layer. Here we could play around with a stepsize of 50 for the first layer and 20 for the second layer\n"
   ]
  },
  {
   "cell_type": "markdown",
   "id": "2424c17f",
   "metadata": {},
   "source": [
    "### MLP-1"
   ]
  },
  {
   "cell_type": "code",
   "execution_count": 4,
   "id": "61b2f5f1",
   "metadata": {},
   "outputs": [],
   "source": [
    "class MLP(nn.Module):\n",
    "    def __init__(self,n_hidden_layer):\n",
    "        super(MLP, self).__init__()\n",
    "        \n",
    "        #Input will be 28*28 and output will be 10\n",
    "        self.input_layer = nn.Linear(28*28,n_hidden_layer)\n",
    "        self.hidden_layer = nn.Linear(n_hidden_layer,10)\n",
    "        \n",
    "    def forward(self, x):\n",
    "        x = self.input_layer(x)\n",
    "        x = torch.relu(x)  #Here we use the ReLu, it often works fine\n",
    "        x = self.hidden_layer(x)\n",
    "        \n",
    "        return x"
   ]
  },
  {
   "cell_type": "markdown",
   "id": "f131c099",
   "metadata": {},
   "source": [
    "#### Creating several MLP-1"
   ]
  },
  {
   "cell_type": "code",
   "execution_count": 5,
   "id": "a8c4eab3",
   "metadata": {},
   "outputs": [],
   "source": [
    "mlp_1_models = []\n",
    "hidden_neurons = 30\n",
    "\n",
    "for i in range(10):\n",
    "    #Creating the model\n",
    "    model = MLP(hidden_neurons)\n",
    "    #Optimizer and loss\n",
    "    #optimizer = optim.SGD(model.parameters(), lr=0.01, momentum=0.9)\n",
    "    #criterion = nn.CrossEntropyLoss()\n",
    "    #Append to list\n",
    "    mlp_1_models.append(model)\n",
    "    \n",
    "    hidden_neurons = hidden_neurons + 30"
   ]
  },
  {
   "cell_type": "markdown",
   "id": "dc6f32b3",
   "metadata": {},
   "source": [
    "## Training"
   ]
  },
  {
   "cell_type": "code",
   "execution_count": 6,
   "id": "da00c4f2",
   "metadata": {},
   "outputs": [],
   "source": [
    "def traning_func(num_epochs, model,file_name):\n",
    "    \n",
    "    loss_each_epoch = []\n",
    "    \n",
    "    test_model = model\n",
    "\n",
    "    optimizer = optim.SGD(model.parameters(), lr=0.01, momentum=0.9)\n",
    "    criterion = nn.CrossEntropyLoss()\n",
    "\n",
    "    for epoch in range(num_epochs):\n",
    "        running_loss = 0\n",
    "    \n",
    "        for images, labels in train_loader:\n",
    "            #Here we havet to first flatten the image so we go from 28,28 to 784\n",
    "            images = images.view(images.shape[0],-1)\n",
    "            #Resetting the gradient\n",
    "            optimizer.zero_grad()\n",
    "        \n",
    "            #Forward propagation\n",
    "            output = test_model(images)\n",
    "        \n",
    "            #Calculate the loss\n",
    "            loss = criterion(output,labels)\n",
    "        \n",
    "            #Backpropagation\n",
    "            loss.backward()\n",
    "            optimizer.step()\n",
    "        \n",
    "            #Accumelated loss for the whole epoch\n",
    "            running_loss += loss.item()\n",
    "        else:\n",
    "            \n",
    "            loss_each_epoch.append(running_loss/len(train_loader))\n",
    "           \n",
    "            \n",
    "    model_filename = f'MLP_1_{30*file_name}.pth'\n",
    "    torch.save(model.state_dict(), model_filename)\n",
    "            \n",
    "    return loss_each_epoch\n"
   ]
  },
  {
   "cell_type": "code",
   "execution_count": 7,
   "id": "dbcc861b",
   "metadata": {},
   "outputs": [
    {
     "name": "stdout",
     "output_type": "stream",
     "text": [
      "MLP-1 Model with a hidden layer of: 30 neurons is trained\n",
      "MLP-1 Model with a hidden layer of: 60 neurons is trained\n",
      "MLP-1 Model with a hidden layer of: 90 neurons is trained\n",
      "MLP-1 Model with a hidden layer of: 120 neurons is trained\n",
      "MLP-1 Model with a hidden layer of: 150 neurons is trained\n",
      "MLP-1 Model with a hidden layer of: 180 neurons is trained\n",
      "MLP-1 Model with a hidden layer of: 210 neurons is trained\n",
      "MLP-1 Model with a hidden layer of: 240 neurons is trained\n",
      "MLP-1 Model with a hidden layer of: 270 neurons is trained\n",
      "MLP-1 Model with a hidden layer of: 300 neurons is trained\n",
      "Training is completed\n"
     ]
    }
   ],
   "source": [
    "num_epoch = 20\n",
    "\n",
    "#So loss array should directly correspond to the amount of epoch and the number of different models\n",
    "loss_array = []\n",
    "\n",
    "r = 0\n",
    "for k in mlp_1_models:\n",
    "    loss_array.append(traning_func(num_epoch,k,r+1))\n",
    "    \n",
    "    print(\"MLP-1 Model with a hidden layer of: {} neurons is trained\".format(30+30*r))\n",
    "    r = r +1\n",
    "        \n",
    "print(\"Training is completed\")"
   ]
  },
  {
   "cell_type": "code",
   "execution_count": null,
   "id": "6a0aeaac",
   "metadata": {},
   "outputs": [],
   "source": []
  },
  {
   "cell_type": "markdown",
   "id": "0d3d55ff",
   "metadata": {},
   "source": [
    "## Testing"
   ]
  },
  {
   "cell_type": "code",
   "execution_count": 8,
   "id": "8f74fc34",
   "metadata": {},
   "outputs": [],
   "source": [
    "def test_func(model): \n",
    "\n",
    "    correct = 0\n",
    "    total = 0\n",
    "\n",
    "    with torch.no_grad():\n",
    "        for images, labels in test_loader:\n",
    "        \n",
    "            images = images.view(images.shape[0],-1)\n",
    "\n",
    "            output = model(images)\n",
    "        \n",
    "            _, predicted = torch.max(output.data,1)\n",
    "            total += labels.size(0)\n",
    "            correct += (predicted == labels).sum().item()\n",
    "\n",
    "    print(\"Accuracy of the network: {} %\".format(100*correct//total))\n",
    "    "
   ]
  },
  {
   "cell_type": "markdown",
   "id": "806f8853",
   "metadata": {},
   "source": [
    "## Inference performance"
   ]
  },
  {
   "cell_type": "code",
   "execution_count": 9,
   "id": "68fdc0c0",
   "metadata": {},
   "outputs": [],
   "source": [
    "import torch.autograd.profiler as profiler\n",
    "\n",
    "def inference_func(model):\n",
    "    with profiler.profile(record_shapes=True,profile_memory=True) as prof:\n",
    "        with torch.no_grad():\n",
    "            \n",
    "            #output = model(test_data)\n",
    "            test_func(model)\n",
    "\n",
    "    cpu_time = prof.self_cpu_time_total\n",
    "    memory_summary = prof.key_averages().table(sort_by=\"self_cpu_memory_usage\", row_limit=100)\n",
    "    \n",
    "    print(f\"Total CPU Time: {cpu_time*10**-6} seconds\")\n",
    "    print(memory_summary)\n",
    "  "
   ]
  },
  {
   "cell_type": "markdown",
   "id": "7eeaecf1",
   "metadata": {},
   "source": [
    "## All the data for MLP-1"
   ]
  },
  {
   "cell_type": "code",
   "execution_count": 10,
   "id": "536b0613",
   "metadata": {
    "scrolled": true
   },
   "outputs": [
    {
     "name": "stdout",
     "output_type": "stream",
     "text": [
      "Model: MLP-1 with 30 neurons in hidden layer\n",
      "Accuracy of the network: 95 %\n",
      "Total CPU Time: 2.072012 seconds\n",
      "-------------------------------------------------------  ------------  ------------  ------------  ------------  ------------  ------------  ------------  ------------  \n",
      "                                                   Name    Self CPU %      Self CPU   CPU total %     CPU total  CPU time avg       CPU Mem  Self CPU Mem    # of Calls  \n",
      "-------------------------------------------------------  ------------  ------------  ------------  ------------  ------------  ------------  ------------  ------------  \n",
      "                                    aten::empty_strided         2.02%      41.908ms         2.02%      41.908ms       2.061us      29.93 Mb      29.93 Mb         20334  \n",
      "                                              aten::cat         0.33%       6.927ms         0.33%       6.927ms      20.740us      29.91 Mb      29.91 Mb           334  \n",
      "                                              aten::div         3.79%      78.463ms         8.17%     169.327ms      16.933us      29.91 Mb      29.87 Mb         10000  \n",
      "                                            aten::addmm         1.46%      30.301ms         1.74%      35.987ms      53.873us       1.53 Mb       1.53 Mb           668  \n",
      "                                        aten::clamp_min         0.13%       2.776ms         0.13%       2.776ms       8.311us       1.14 Mb       1.14 Mb           334  \n",
      "                                               aten::to         1.92%      39.732ms        11.66%     241.652ms       7.880us      30.02 Mb     810.31 Kb         30668  \n",
      "                                              aten::max         0.37%       7.695ms         0.62%      12.778ms      38.257us     117.19 Kb     117.19 Kb           334  \n",
      "                                         aten::_to_copy         5.25%     108.867ms        10.35%     214.456ms      10.547us      30.02 Mb      95.43 Kb         20334  \n",
      "                                            aten::empty         0.06%       1.163ms         0.06%       1.163ms       3.472us      75.09 Kb      75.09 Kb           335  \n",
      "                                             aten::relu         0.06%       1.229ms         0.19%       3.949ms      11.823us       1.14 Mb      28.12 Kb           334  \n",
      "                                               aten::eq         0.10%       2.154ms         0.10%       2.154ms       6.449us       9.77 Kb       9.77 Kb           334  \n",
      "                                           aten::linear         0.18%       3.767ms         2.23%      46.143ms      69.076us       1.53 Mb       4.69 Kb           668  \n",
      "                                          aten::random_         0.00%      68.000us         0.00%      68.000us      68.000us           0 b           0 b             1  \n",
      "                              aten::_local_scalar_dense         0.13%       2.702ms         0.13%       2.702ms       0.261us           0 b           0 b         10335  \n",
      "                                           aten::select         5.04%     104.491ms         5.74%     118.880ms       5.944us           0 b           0 b         20000  \n",
      "                                       aten::as_strided         1.26%      26.205ms         1.26%      26.205ms       0.827us           0 b           0 b         31670  \n",
      "                                           aten::detach         0.78%      16.080ms         1.76%      36.396ms       3.640us           0 b           0 b         10000  \n",
      "                                                 detach         1.29%      26.674ms         1.29%      26.674ms       2.667us           0 b           0 b         10000  \n",
      "                                     aten::resolve_conj         0.01%     125.000us         0.01%     125.000us       0.011us           0 b           0 b         11336  \n",
      "                                      aten::resolve_neg         0.00%       0.000us         0.00%       0.000us       0.000us           0 b           0 b         10000  \n",
      "                                       aten::lift_fresh         0.15%       3.051ms         0.15%       3.051ms       0.295us           0 b           0 b         10334  \n",
      "                                             aten::view         1.84%      38.098ms         1.84%      38.098ms       3.571us           0 b           0 b         10668  \n",
      "                                          aten::permute         2.69%      55.753ms         3.19%      66.043ms       6.604us           0 b           0 b         10000  \n",
      "                                            aten::copy_         3.28%      67.960ms         3.28%      67.960ms       3.236us           0 b           0 b         21002  \n",
      "                                            aten::stack         0.25%       5.239ms         0.62%      12.827ms      38.404us      29.91 Mb           0 b           334  \n",
      "                                          aten::detach_         0.02%     513.000us         0.04%     866.000us       2.593us           0 b           0 b           334  \n",
      "                                                detach_         0.02%     384.000us         0.02%     384.000us       1.150us           0 b           0 b           334  \n",
      "                                                aten::t         0.14%       2.979ms         0.31%       6.461ms       9.672us           0 b           0 b           668  \n",
      "                                        aten::transpose         0.12%       2.422ms         0.17%       3.448ms       5.162us           0 b           0 b           668  \n",
      "                                           aten::expand         0.09%       1.927ms         0.10%       2.113ms       3.163us           0 b           0 b           668  \n",
      "                                       aten::unsqueeze_         0.09%       1.960ms         0.14%       2.965ms       4.439us           0 b           0 b           668  \n",
      "                                      aten::as_strided_         0.06%       1.197ms         0.06%       1.197ms       0.896us           0 b           0 b          1336  \n",
      "                                         aten::squeeze_         0.09%       1.926ms         0.10%       2.063ms       3.088us           0 b           0 b           668  \n",
      "                                            aten::fill_         0.00%      72.000us         0.00%      72.000us       0.216us           0 b           0 b           334  \n",
      "                                             aten::item         0.63%      13.120ms         0.74%      15.333ms       1.484us         -32 b         -32 b         10335  \n",
      "                                              aten::sum         0.27%       5.592ms         0.49%      10.249ms      30.594us       2.62 Kb     -78.09 Kb           335  \n",
      "                                               [memory]         0.00%       0.000us         0.00%       0.000us       0.000us     -32.78 Mb     -32.78 Mb          3003  \n",
      "enumerate(DataLoader)#_SingleProcessDataLoaderIter._...        66.05%        1.368s        96.26%        1.995s       5.954ms      29.98 Mb     -60.60 Mb           335  \n",
      "-------------------------------------------------------  ------------  ------------  ------------  ------------  ------------  ------------  ------------  ------------  \n",
      "Self CPU time total: 2.072s\n",
      "\n",
      "______________________________________________________________________\n",
      "Model: MLP-1 with 60 neurons in hidden layer\n",
      "Accuracy of the network: 97 %\n",
      "Total CPU Time: 2.114579 seconds\n",
      "-------------------------------------------------------  ------------  ------------  ------------  ------------  ------------  ------------  ------------  ------------  \n",
      "                                                   Name    Self CPU %      Self CPU   CPU total %     CPU total  CPU time avg       CPU Mem  Self CPU Mem    # of Calls  \n",
      "-------------------------------------------------------  ------------  ------------  ------------  ------------  ------------  ------------  ------------  ------------  \n",
      "                                    aten::empty_strided         1.95%      41.141ms         1.95%      41.141ms       2.023us      29.93 Mb      29.93 Mb         20334  \n",
      "                                              aten::cat         0.33%       7.017ms         0.33%       7.017ms      21.009us      29.91 Mb      29.91 Mb           334  \n",
      "                                              aten::div         3.87%      81.847ms         8.15%     172.372ms      17.237us      29.91 Mb      29.87 Mb         10000  \n",
      "                                            aten::addmm         1.69%      35.672ms         1.96%      41.383ms      61.951us       2.67 Mb       2.67 Mb           668  \n",
      "                                        aten::clamp_min         0.14%       3.040ms         0.14%       3.040ms       9.102us       2.29 Mb       2.29 Mb           334  \n",
      "                                               aten::to         1.94%      40.987ms        11.54%     243.932ms       7.954us      30.02 Mb     904.87 Kb         30668  \n",
      "                                              aten::max         0.36%       7.656ms         0.60%      12.643ms      37.853us     117.19 Kb     117.19 Kb           334  \n",
      "                                         aten::_to_copy         5.17%     109.399ms        10.19%     215.391ms      10.593us      30.02 Mb      89.56 Kb         20334  \n",
      "                                            aten::empty         0.06%       1.180ms         0.06%       1.180ms       3.522us      76.96 Kb      76.96 Kb           335  \n",
      "                                             aten::relu         0.06%       1.198ms         0.20%       4.214ms      12.617us       2.29 Mb      21.09 Kb           334  \n",
      "                                               aten::eq         0.10%       2.192ms         0.10%       2.192ms       6.563us       9.77 Kb       9.77 Kb           334  \n",
      "                                           aten::linear         0.17%       3.504ms         2.42%      51.185ms      76.624us       2.67 Mb       2.34 Kb           668  \n",
      "                                          aten::random_         0.00%      14.000us         0.00%      14.000us      14.000us           0 b           0 b             1  \n",
      "                              aten::_local_scalar_dense         0.14%       2.984ms         0.14%       2.984ms       0.289us           0 b           0 b         10335  \n",
      "                                           aten::select         5.04%     106.582ms         5.79%     122.493ms       6.125us           0 b           0 b         20000  \n",
      "                                       aten::as_strided         1.36%      28.806ms         1.36%      28.806ms       0.910us           0 b           0 b         31670  \n",
      "                                           aten::detach         0.73%      15.386ms         1.72%      36.461ms       3.646us           0 b           0 b         10000  \n",
      "                                                 detach         1.24%      26.322ms         1.24%      26.322ms       2.632us           0 b           0 b         10000  \n",
      "                                     aten::resolve_conj         0.00%      20.000us         0.00%      20.000us       0.002us           0 b           0 b         11336  \n",
      "                                      aten::resolve_neg         0.00%       8.000us         0.00%       8.000us       0.001us           0 b           0 b         10000  \n",
      "                                       aten::lift_fresh         0.16%       3.357ms         0.16%       3.357ms       0.325us           0 b           0 b         10334  \n",
      "                                             aten::view         1.78%      37.673ms         1.78%      37.673ms       3.531us           0 b           0 b         10668  \n",
      "                                          aten::permute         2.72%      57.578ms         3.28%      69.264ms       6.926us           0 b           0 b         10000  \n",
      "                                            aten::copy_         3.27%      69.167ms         3.27%      69.167ms       3.293us           0 b           0 b         21002  \n",
      "                                            aten::stack         0.26%       5.433ms         0.61%      12.953ms      38.781us      29.91 Mb           0 b           334  \n",
      "                                          aten::detach_         0.02%     494.000us         0.04%     860.000us       2.575us           0 b           0 b           334  \n",
      "                                                detach_         0.02%     373.000us         0.02%     373.000us       1.117us           0 b           0 b           334  \n",
      "                                                aten::t         0.14%       2.996ms         0.30%       6.336ms       9.485us           0 b           0 b           668  \n",
      "                                        aten::transpose         0.12%       2.523ms         0.16%       3.299ms       4.939us           0 b           0 b           668  \n",
      "                                           aten::expand         0.09%       1.910ms         0.10%       2.114ms       3.165us           0 b           0 b           668  \n",
      "                                       aten::unsqueeze_         0.09%       1.920ms         0.14%       2.929ms       4.385us           0 b           0 b           668  \n",
      "                                      aten::as_strided_         0.06%       1.216ms         0.06%       1.216ms       0.910us           0 b           0 b          1336  \n",
      "                                         aten::squeeze_         0.09%       1.851ms         0.09%       2.005ms       3.001us           0 b           0 b           668  \n",
      "                                            aten::fill_         0.00%      52.000us         0.00%      52.000us       0.156us           0 b           0 b           334  \n",
      "                                             aten::item         0.63%      13.330ms         0.74%      15.750ms       1.524us         -16 b         -16 b         10335  \n",
      "                                              aten::sum         0.27%       5.678ms         0.49%      10.379ms      30.526us       2.66 Kb     -78.28 Kb           340  \n",
      "                                               [memory]         0.00%       0.000us         0.00%       0.000us       0.000us     -35.07 Mb     -35.07 Mb          3005  \n",
      "enumerate(DataLoader)#_SingleProcessDataLoaderIter._...        65.93%        1.394s        96.09%        2.032s       6.065ms      29.98 Mb     -60.69 Mb           335  \n",
      "-------------------------------------------------------  ------------  ------------  ------------  ------------  ------------  ------------  ------------  ------------  \n",
      "Self CPU time total: 2.115s\n",
      "\n",
      "______________________________________________________________________\n",
      "Model: MLP-1 with 90 neurons in hidden layer\n"
     ]
    },
    {
     "name": "stdout",
     "output_type": "stream",
     "text": [
      "Accuracy of the network: 97 %\n",
      "Total CPU Time: 2.0449349999999997 seconds\n",
      "-------------------------------------------------------  ------------  ------------  ------------  ------------  ------------  ------------  ------------  ------------  \n",
      "                                                   Name    Self CPU %      Self CPU   CPU total %     CPU total  CPU time avg       CPU Mem  Self CPU Mem    # of Calls  \n",
      "-------------------------------------------------------  ------------  ------------  ------------  ------------  ------------  ------------  ------------  ------------  \n",
      "                                    aten::empty_strided         1.95%      39.977ms         1.95%      39.977ms       1.966us      29.95 Mb      29.95 Mb         20334  \n",
      "                                              aten::cat         0.33%       6.836ms         0.33%       6.836ms      20.467us      29.91 Mb      29.91 Mb           334  \n",
      "                                              aten::div         3.78%      77.350ms         8.10%     165.683ms      16.568us      29.91 Mb      29.87 Mb         10000  \n",
      "                                            aten::addmm         1.95%      39.962ms         2.23%      45.629ms      68.307us       3.81 Mb       3.81 Mb           668  \n",
      "                                        aten::clamp_min         0.17%       3.534ms         0.17%       3.534ms      10.581us       3.43 Mb       3.43 Mb           334  \n",
      "                                               aten::to         1.93%      39.500ms        11.54%     236.057ms       7.697us      30.02 Mb     802.28 Kb         30668  \n",
      "                                              aten::max         0.36%       7.398ms         0.60%      12.310ms      36.856us     117.19 Kb     117.19 Kb           334  \n",
      "                                            aten::empty         0.06%       1.194ms         0.06%       1.194ms       3.564us      76.49 Kb      76.49 Kb           335  \n",
      "                                         aten::_to_copy         5.21%     106.468ms        10.22%     208.993ms      10.278us      30.02 Mb      75.37 Kb         20334  \n",
      "                                             aten::relu         0.06%       1.148ms         0.23%       4.673ms      13.991us       3.43 Mb      10.55 Kb           334  \n",
      "                                               aten::eq         0.11%       2.166ms         0.11%       2.166ms       6.485us       9.77 Kb       9.77 Kb           334  \n",
      "                                           aten::linear         0.16%       3.344ms         2.69%      54.985ms      82.313us       3.81 Mb       5.86 Kb           668  \n",
      "                                          aten::random_         0.00%      15.000us         0.00%      15.000us      15.000us           0 b           0 b             1  \n",
      "                              aten::_local_scalar_dense         0.12%       2.417ms         0.12%       2.417ms       0.234us           0 b           0 b         10335  \n",
      "                                           aten::select         5.04%     103.063ms         5.78%     118.244ms       5.912us           0 b           0 b         20000  \n",
      "                                       aten::as_strided         1.33%      27.100ms         1.33%      27.100ms       0.856us           0 b           0 b         31670  \n",
      "                                           aten::detach         0.78%      15.982ms         1.74%      35.669ms       3.567us           0 b           0 b         10000  \n",
      "                                                 detach         1.26%      25.766ms         1.26%      25.766ms       2.577us           0 b           0 b         10000  \n",
      "                                     aten::resolve_conj         0.00%       3.000us         0.00%       3.000us       0.000us           0 b           0 b         11336  \n",
      "                                      aten::resolve_neg         0.00%       0.000us         0.00%       0.000us       0.000us           0 b           0 b         10000  \n",
      "                                       aten::lift_fresh         0.14%       2.790ms         0.14%       2.790ms       0.270us           0 b           0 b         10334  \n",
      "                                             aten::view         1.79%      36.658ms         1.79%      36.658ms       3.436us           0 b           0 b         10668  \n",
      "                                          aten::permute         2.66%      54.415ms         3.19%      65.167ms       6.517us           0 b           0 b         10000  \n",
      "                                            aten::copy_         3.27%      66.824ms         3.27%      66.824ms       3.182us           0 b           0 b         21002  \n",
      "                                            aten::stack         0.25%       5.203ms         0.61%      12.560ms      37.605us      29.91 Mb           0 b           334  \n",
      "                                          aten::detach_         0.03%     513.000us         0.04%     855.000us       2.560us           0 b           0 b           334  \n",
      "                                                detach_         0.02%     357.000us         0.02%     357.000us       1.069us           0 b           0 b           334  \n",
      "                                                aten::t         0.14%       2.863ms         0.30%       6.109ms       9.145us           0 b           0 b           668  \n",
      "                                        aten::transpose         0.12%       2.451ms         0.16%       3.215ms       4.813us           0 b           0 b           668  \n",
      "                                           aten::expand         0.09%       1.899ms         0.10%       2.082ms       3.117us           0 b           0 b           668  \n",
      "                                       aten::unsqueeze_         0.10%       1.946ms         0.14%       2.867ms       4.292us           0 b           0 b           668  \n",
      "                                      aten::as_strided_         0.05%       1.121ms         0.05%       1.121ms       0.839us           0 b           0 b          1336  \n",
      "                                         aten::squeeze_         0.09%       1.845ms         0.10%       1.971ms       2.951us           0 b           0 b           668  \n",
      "                                            aten::fill_         0.00%      46.000us         0.00%      46.000us       0.138us           0 b           0 b           334  \n",
      "                                             aten::item         0.64%      13.131ms         0.73%      15.026ms       1.454us         -40 b         -40 b         10335  \n",
      "                                              aten::sum         0.28%       5.669ms         0.49%      10.001ms      29.243us       2.67 Kb     -79.44 Kb           342  \n",
      "                                               [memory]         0.00%       0.000us         0.00%       0.000us       0.000us     -37.36 Mb     -37.36 Mb          3002  \n",
      "enumerate(DataLoader)#_SingleProcessDataLoaderIter._...        65.72%        1.344s        95.78%        1.959s       5.847ms      29.98 Mb     -60.59 Mb           335  \n",
      "-------------------------------------------------------  ------------  ------------  ------------  ------------  ------------  ------------  ------------  ------------  \n",
      "Self CPU time total: 2.045s\n",
      "\n",
      "______________________________________________________________________\n",
      "Model: MLP-1 with 120 neurons in hidden layer\n",
      "Accuracy of the network: 97 %\n"
     ]
    },
    {
     "ename": "KeyboardInterrupt",
     "evalue": "",
     "output_type": "error",
     "traceback": [
      "\u001b[1;31m---------------------------------------------------------------------------\u001b[0m",
      "\u001b[1;31mKeyboardInterrupt\u001b[0m                         Traceback (most recent call last)",
      "Cell \u001b[1;32mIn[10], line 13\u001b[0m\n\u001b[0;32m     10\u001b[0m loaded_model\u001b[38;5;241m.\u001b[39mload_state_dict(torch\u001b[38;5;241m.\u001b[39mload(\u001b[38;5;124mf\u001b[39m\u001b[38;5;124m'\u001b[39m\u001b[38;5;124mMLP_1_\u001b[39m\u001b[38;5;132;01m{\u001b[39;00m\u001b[38;5;241m30\u001b[39m\u001b[38;5;241m*\u001b[39mk\u001b[38;5;241m+\u001b[39m\u001b[38;5;241m30\u001b[39m\u001b[38;5;132;01m}\u001b[39;00m\u001b[38;5;124m.pth\u001b[39m\u001b[38;5;124m'\u001b[39m))\n\u001b[0;32m     12\u001b[0m \u001b[38;5;28mprint\u001b[39m(\u001b[38;5;124mf\u001b[39m\u001b[38;5;124m\"\u001b[39m\u001b[38;5;124mModel: MLP-1 with \u001b[39m\u001b[38;5;132;01m{\u001b[39;00m\u001b[38;5;241m30\u001b[39m\u001b[38;5;241m*\u001b[39mk\u001b[38;5;241m+\u001b[39m\u001b[38;5;241m30\u001b[39m\u001b[38;5;132;01m}\u001b[39;00m\u001b[38;5;124m neurons in hidden layer\u001b[39m\u001b[38;5;124m\"\u001b[39m)\n\u001b[1;32m---> 13\u001b[0m inference_func(loaded_model)\n\u001b[0;32m     16\u001b[0m \u001b[38;5;28mprint\u001b[39m(\u001b[38;5;124m\"\u001b[39m\u001b[38;5;124m______________________________________________________________________\u001b[39m\u001b[38;5;124m\"\u001b[39m)\n",
      "Cell \u001b[1;32mIn[9], line 11\u001b[0m, in \u001b[0;36minference_func\u001b[1;34m(model)\u001b[0m\n\u001b[0;32m      8\u001b[0m         test_func(model)\n\u001b[0;32m     10\u001b[0m cpu_time \u001b[38;5;241m=\u001b[39m prof\u001b[38;5;241m.\u001b[39mself_cpu_time_total\n\u001b[1;32m---> 11\u001b[0m memory_summary \u001b[38;5;241m=\u001b[39m prof\u001b[38;5;241m.\u001b[39mkey_averages()\u001b[38;5;241m.\u001b[39mtable(sort_by\u001b[38;5;241m=\u001b[39m\u001b[38;5;124m\"\u001b[39m\u001b[38;5;124mself_cpu_memory_usage\u001b[39m\u001b[38;5;124m\"\u001b[39m, row_limit\u001b[38;5;241m=\u001b[39m\u001b[38;5;241m100\u001b[39m)\n\u001b[0;32m     13\u001b[0m \u001b[38;5;28mprint\u001b[39m(\u001b[38;5;124mf\u001b[39m\u001b[38;5;124m\"\u001b[39m\u001b[38;5;124mTotal CPU Time: \u001b[39m\u001b[38;5;132;01m{\u001b[39;00mcpu_time\u001b[38;5;241m*\u001b[39m\u001b[38;5;241m10\u001b[39m\u001b[38;5;241m*\u001b[39m\u001b[38;5;241m*\u001b[39m\u001b[38;5;241m-\u001b[39m\u001b[38;5;241m6\u001b[39m\u001b[38;5;132;01m}\u001b[39;00m\u001b[38;5;124m seconds\u001b[39m\u001b[38;5;124m\"\u001b[39m)\n\u001b[0;32m     14\u001b[0m \u001b[38;5;28mprint\u001b[39m(memory_summary)\n",
      "File \u001b[1;32m~\\anaconda3\\Lib\\site-packages\\torch\\autograd\\profiler.py:392\u001b[0m, in \u001b[0;36mprofile.key_averages\u001b[1;34m(self, group_by_input_shape, group_by_stack_n)\u001b[0m\n\u001b[0;32m    390\u001b[0m \u001b[38;5;28mself\u001b[39m\u001b[38;5;241m.\u001b[39m_check_finish()\n\u001b[0;32m    391\u001b[0m \u001b[38;5;28;01massert\u001b[39;00m \u001b[38;5;28mself\u001b[39m\u001b[38;5;241m.\u001b[39mfunction_events \u001b[38;5;129;01mis\u001b[39;00m \u001b[38;5;129;01mnot\u001b[39;00m \u001b[38;5;28;01mNone\u001b[39;00m, \u001b[38;5;124m\"\u001b[39m\u001b[38;5;124mExpected profiling results\u001b[39m\u001b[38;5;124m\"\u001b[39m\n\u001b[1;32m--> 392\u001b[0m \u001b[38;5;28;01mreturn\u001b[39;00m \u001b[38;5;28mself\u001b[39m\u001b[38;5;241m.\u001b[39mfunction_events\u001b[38;5;241m.\u001b[39mkey_averages(group_by_input_shape, group_by_stack_n)\n",
      "File \u001b[1;32m~\\anaconda3\\Lib\\site-packages\\torch\\autograd\\profiler_util.py:324\u001b[0m, in \u001b[0;36mEventList.key_averages\u001b[1;34m(self, group_by_input_shapes, group_by_stack_n)\u001b[0m\n\u001b[0;32m    321\u001b[0m     \u001b[38;5;28;01mreturn\u001b[39;00m \u001b[38;5;28mtuple\u001b[39m(key)\n\u001b[0;32m    323\u001b[0m \u001b[38;5;28;01mfor\u001b[39;00m evt \u001b[38;5;129;01min\u001b[39;00m \u001b[38;5;28mself\u001b[39m:\n\u001b[1;32m--> 324\u001b[0m     stats[get_key(evt, group_by_input_shapes, group_by_stack_n)]\u001b[38;5;241m.\u001b[39madd(evt)\n\u001b[0;32m    326\u001b[0m avg_list \u001b[38;5;241m=\u001b[39m EventList(\n\u001b[0;32m    327\u001b[0m     stats\u001b[38;5;241m.\u001b[39mvalues(),\n\u001b[0;32m    328\u001b[0m     use_cuda\u001b[38;5;241m=\u001b[39m\u001b[38;5;28mself\u001b[39m\u001b[38;5;241m.\u001b[39m_use_cuda,\n\u001b[1;32m   (...)\u001b[0m\n\u001b[0;32m    331\u001b[0m     with_flops\u001b[38;5;241m=\u001b[39m\u001b[38;5;28mself\u001b[39m\u001b[38;5;241m.\u001b[39m_with_flops,\n\u001b[0;32m    332\u001b[0m )\n\u001b[0;32m    333\u001b[0m \u001b[38;5;28;01mfor\u001b[39;00m evt \u001b[38;5;129;01min\u001b[39;00m avg_list:\n",
      "File \u001b[1;32m~\\anaconda3\\Lib\\site-packages\\torch\\autograd\\profiler_util.py:717\u001b[0m, in \u001b[0;36mFunctionEventAvg.add\u001b[1;34m(self, other)\u001b[0m\n\u001b[0;32m    715\u001b[0m \u001b[38;5;28mself\u001b[39m\u001b[38;5;241m.\u001b[39mprivateuse1_memory_usage \u001b[38;5;241m+\u001b[39m\u001b[38;5;241m=\u001b[39m other\u001b[38;5;241m.\u001b[39mprivateuse1_memory_usage\n\u001b[0;32m    716\u001b[0m \u001b[38;5;28mself\u001b[39m\u001b[38;5;241m.\u001b[39mself_cpu_memory_usage \u001b[38;5;241m+\u001b[39m\u001b[38;5;241m=\u001b[39m other\u001b[38;5;241m.\u001b[39mself_cpu_memory_usage\n\u001b[1;32m--> 717\u001b[0m \u001b[38;5;28mself\u001b[39m\u001b[38;5;241m.\u001b[39mself_cuda_memory_usage \u001b[38;5;241m+\u001b[39m\u001b[38;5;241m=\u001b[39m other\u001b[38;5;241m.\u001b[39mself_cuda_memory_usage\n\u001b[0;32m    718\u001b[0m \u001b[38;5;28mself\u001b[39m\u001b[38;5;241m.\u001b[39mself_privateuse1_memory_usage \u001b[38;5;241m+\u001b[39m\u001b[38;5;241m=\u001b[39m other\u001b[38;5;241m.\u001b[39mself_privateuse1_memory_usage\n\u001b[0;32m    719\u001b[0m \u001b[38;5;28mself\u001b[39m\u001b[38;5;241m.\u001b[39mcount \u001b[38;5;241m+\u001b[39m\u001b[38;5;241m=\u001b[39m other\u001b[38;5;241m.\u001b[39mcount\n",
      "File \u001b[1;32m~\\anaconda3\\Lib\\site-packages\\torch\\autograd\\profiler_util.py:525\u001b[0m, in \u001b[0;36mFunctionEvent.self_cuda_memory_usage\u001b[1;34m(self)\u001b[0m\n\u001b[0;32m    520\u001b[0m         \u001b[38;5;28;01mreturn\u001b[39;00m \u001b[38;5;241m0\u001b[39m\n\u001b[0;32m    521\u001b[0m     \u001b[38;5;28;01mreturn\u001b[39;00m \u001b[38;5;28mself\u001b[39m\u001b[38;5;241m.\u001b[39mcpu_memory_usage \u001b[38;5;241m-\u001b[39m \u001b[38;5;28msum\u001b[39m(\n\u001b[0;32m    522\u001b[0m         [child\u001b[38;5;241m.\u001b[39mcpu_memory_usage \u001b[38;5;28;01mfor\u001b[39;00m child \u001b[38;5;129;01min\u001b[39;00m \u001b[38;5;28mself\u001b[39m\u001b[38;5;241m.\u001b[39mcpu_children]\n\u001b[0;32m    523\u001b[0m     )\n\u001b[1;32m--> 525\u001b[0m \u001b[38;5;129m@property\u001b[39m\n\u001b[0;32m    526\u001b[0m \u001b[38;5;28;01mdef\u001b[39;00m \u001b[38;5;21mself_cuda_memory_usage\u001b[39m(\u001b[38;5;28mself\u001b[39m):\n\u001b[0;32m    527\u001b[0m     \u001b[38;5;28;01mif\u001b[39;00m \u001b[38;5;28mself\u001b[39m\u001b[38;5;241m.\u001b[39mis_async \u001b[38;5;129;01mor\u001b[39;00m \u001b[38;5;28mself\u001b[39m\u001b[38;5;241m.\u001b[39mdevice_type \u001b[38;5;241m!=\u001b[39m DeviceType\u001b[38;5;241m.\u001b[39mCPU:\n\u001b[0;32m    528\u001b[0m         \u001b[38;5;28;01mreturn\u001b[39;00m \u001b[38;5;241m0\u001b[39m\n",
      "\u001b[1;31mKeyboardInterrupt\u001b[0m: "
     ]
    }
   ],
   "source": [
    "#We can use the below code if we want\n",
    "\n",
    "#single_data_entry, target = next(iter(test_loader))\n",
    "#single_data_entry = single_data_entry.view(single_data_entry.shape[0], -1)\n",
    "\n",
    "\n",
    "for k in range(10):\n",
    "    \n",
    "    loaded_model = MLP(30*k+30)  # Create an instance of the model\n",
    "    loaded_model.load_state_dict(torch.load(f'MLP_1_{30*k+30}.pth'))\n",
    "    \n",
    "    print(f\"Model: MLP-1 with {30*k+30} neurons in hidden layer\")\n",
    "    inference_func(loaded_model)\n",
    "   \n",
    "    \n",
    "    print(\"______________________________________________________________________\")\n"
   ]
  }
 ],
 "metadata": {
  "kernelspec": {
   "display_name": "Python 3 (ipykernel)",
   "language": "python",
   "name": "python3"
  },
  "language_info": {
   "codemirror_mode": {
    "name": "ipython",
    "version": 3
   },
   "file_extension": ".py",
   "mimetype": "text/x-python",
   "name": "python",
   "nbconvert_exporter": "python",
   "pygments_lexer": "ipython3",
   "version": "3.11.5"
  }
 },
 "nbformat": 4,
 "nbformat_minor": 5
}
