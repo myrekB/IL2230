{
 "cells": [
  {
   "cell_type": "markdown",
   "id": "440d09d1",
   "metadata": {},
   "source": [
    "## Import libaires and MNIST dataset"
   ]
  },
  {
   "cell_type": "code",
   "execution_count": 1,
   "id": "6bfac1e3",
   "metadata": {},
   "outputs": [],
   "source": [
    "import torch\n",
    "import torchvision\n",
    "import torchvision.datasets as datasets\n",
    "from torchvision.transforms import ToTensor\n",
    "import torch.nn as nn\n",
    "import torch.optim as optim\n",
    "import torch.autograd.profiler as profiler"
   ]
  },
  {
   "cell_type": "code",
   "execution_count": 2,
   "id": "f806cf24",
   "metadata": {},
   "outputs": [],
   "source": [
    "T = torchvision.transforms.Compose([\n",
    "    torchvision.transforms.ToTensor()\n",
    "])\n",
    "\n",
    "mnist_trainset = datasets.MNIST(root='./data', train=True, download=True, transform=T)\n",
    "mnist_testset = datasets.MNIST(root='./data', train=False, download=True, transform=T)\n",
    "\n",
    "\n",
    "#Number of batch\n",
    "numb_batch = 30\n",
    "\n",
    "train_loader = torch.utils.data.DataLoader(mnist_trainset, batch_size = numb_batch)\n",
    "test_loader = torch.utils.data.DataLoader(mnist_testset, batch_size = numb_batch)\n"
   ]
  },
  {
   "cell_type": "markdown",
   "id": "9dd255ba",
   "metadata": {},
   "source": [
    "## Checking the data"
   ]
  },
  {
   "cell_type": "code",
   "execution_count": 3,
   "id": "f79adf08",
   "metadata": {},
   "outputs": [
    {
     "name": "stdout",
     "output_type": "stream",
     "text": [
      "Length of trainset: 60000\n",
      "Length of testset: 10000\n",
      "Input size of one image: torch.Size([1, 28, 28])\n"
     ]
    }
   ],
   "source": [
    "len_mnist_train = len(mnist_trainset)\n",
    "len_mnist_test = len(mnist_testset)\n",
    "input_size = mnist_trainset[0][0].shape\n",
    "\n",
    "print(\"Length of trainset:\", len_mnist_train)\n",
    "print(\"Length of testset:\", len_mnist_test)\n",
    "print(f\"Input size of one image: {input_size}\")\n"
   ]
  },
  {
   "cell_type": "markdown",
   "id": "21654ef0",
   "metadata": {},
   "source": [
    "## Define the network (ANN)"
   ]
  },
  {
   "cell_type": "markdown",
   "id": "c0444c8b",
   "metadata": {},
   "source": [
    "There should be two different versions of the ANN:\n",
    "\n",
    "1. MLP1: Only one hidden layer with a step size of 30, so here we try different number of neurons\n",
    "2. MLP2: Here we have two layers: One layer is 300 for the first layer and 100 for the second layer. Here we could play around with a stepsize of 50 for the first layer and 20 for the second layer\n"
   ]
  },
  {
   "cell_type": "markdown",
   "id": "2424c17f",
   "metadata": {},
   "source": [
    "### MLP-2"
   ]
  },
  {
   "cell_type": "code",
   "execution_count": 4,
   "id": "61b2f5f1",
   "metadata": {},
   "outputs": [],
   "source": [
    "class MLP(nn.Module):\n",
    "    def __init__(self,n_hidden_layer_1,n_hidden_layer_2):\n",
    "        super(MLP, self).__init__()\n",
    "        \n",
    "        #Input will be 28*28 and output will be 10\n",
    "        self.input_layer = nn.Linear(28*28,n_hidden_layer_1)\n",
    "        self.hidden_layer_1 = nn.Linear(n_hidden_layer_1,n_hidden_layer_2)\n",
    "        self.hidden_layer_2 = nn.Linear(n_hidden_layer_2,10)\n",
    "        \n",
    "    def forward(self, x):\n",
    "        x = self.input_layer(x)\n",
    "        x = torch.relu(x)  #Here we use the ReLu, it often works fine\n",
    "        x = self.hidden_layer_1(x)\n",
    "        x = torch.relu(x)\n",
    "        x = self.hidden_layer_2(x)\n",
    "        \n",
    "        return x"
   ]
  },
  {
   "cell_type": "markdown",
   "id": "f131c099",
   "metadata": {},
   "source": [
    "#### Creating several MLP-1"
   ]
  },
  {
   "cell_type": "code",
   "execution_count": 5,
   "id": "a8c4eab3",
   "metadata": {},
   "outputs": [],
   "source": [
    "mlp_2_models = []\n",
    "#Increasing with 30\n",
    "start_layer_1 = 30\n",
    "#Increasing with 10\n",
    "start_layer_2 = 10\n",
    "\n",
    "for i in range(10):\n",
    "    #Creating the model\n",
    "    model = MLP(start_layer_1*i+start_layer_1,start_layer_2*i+start_layer_2)\n",
    "    #Optimizer and loss\n",
    "    #optimizer = optim.SGD(model.parameters(), lr=0.01, momentum=0.9)\n",
    "    #criterion = nn.CrossEntropyLoss()\n",
    "    #Append to list\n",
    "    mlp_2_models.append(model)\n",
    "    "
   ]
  },
  {
   "cell_type": "markdown",
   "id": "dc6f32b3",
   "metadata": {},
   "source": [
    "## Training"
   ]
  },
  {
   "cell_type": "code",
   "execution_count": 6,
   "id": "da00c4f2",
   "metadata": {},
   "outputs": [],
   "source": [
    "def traning_func(num_epochs, model,file_name):\n",
    "    \n",
    "    loss_each_epoch = []\n",
    "    \n",
    "    test_model = model\n",
    "\n",
    "    optimizer = optim.SGD(model.parameters(), lr=0.001, momentum=0.9)\n",
    "    criterion = nn.CrossEntropyLoss()\n",
    "\n",
    "    for epoch in range(num_epochs):\n",
    "        running_loss = 0\n",
    "    \n",
    "        for images, labels in train_loader:\n",
    "            #Here we havet to first flatten the image so we go from 28,28 to 784\n",
    "            images = images.view(images.shape[0],-1)\n",
    "            #Resetting the gradient\n",
    "            optimizer.zero_grad()\n",
    "        \n",
    "            #Forward propagation\n",
    "            output = test_model(images)\n",
    "        \n",
    "            #Calculate the loss\n",
    "            loss = criterion(output,labels)\n",
    "        \n",
    "            #Backpropagation\n",
    "            loss.backward()\n",
    "            optimizer.step()\n",
    "        \n",
    "            #Accumelated loss for the whole epoch\n",
    "            running_loss += loss.item()\n",
    "        else:\n",
    "            \n",
    "            loss_each_epoch.append(running_loss/len(train_loader))\n",
    "            \n",
    "    model_filename = f'MLP_2_{30*file_name}_{10*file_name}.pth'\n",
    "    torch.save(model.state_dict(), model_filename)\n",
    "            \n",
    "    return loss_each_epoch\n"
   ]
  },
  {
   "cell_type": "code",
   "execution_count": 2,
   "id": "3ad25b71",
   "metadata": {},
   "outputs": [
    {
     "ename": "NameError",
     "evalue": "name 'mlp_2_models' is not defined",
     "output_type": "error",
     "traceback": [
      "\u001b[1;31m---------------------------------------------------------------------------\u001b[0m",
      "\u001b[1;31mNameError\u001b[0m                                 Traceback (most recent call last)",
      "Cell \u001b[1;32mIn[2], line 7\u001b[0m\n\u001b[0;32m      4\u001b[0m loss_array \u001b[38;5;241m=\u001b[39m []\n\u001b[0;32m      6\u001b[0m r \u001b[38;5;241m=\u001b[39m \u001b[38;5;241m0\u001b[39m\n\u001b[1;32m----> 7\u001b[0m \u001b[38;5;28;01mfor\u001b[39;00m k \u001b[38;5;129;01min\u001b[39;00m mlp_2_models:\n\u001b[0;32m      8\u001b[0m     loss_array\u001b[38;5;241m.\u001b[39mappend(traning_func(num_epoch,k,r\u001b[38;5;241m+\u001b[39m\u001b[38;5;241m1\u001b[39m))\n\u001b[0;32m     10\u001b[0m     \u001b[38;5;28mprint\u001b[39m(\u001b[38;5;124m\"\u001b[39m\u001b[38;5;124mMLP-2 Model with two hidden layers: First: \u001b[39m\u001b[38;5;132;01m{}\u001b[39;00m\u001b[38;5;124m, Second: \u001b[39m\u001b[38;5;132;01m{}\u001b[39;00m\u001b[38;5;124m is now trained\u001b[39m\u001b[38;5;124m\"\u001b[39m\u001b[38;5;241m.\u001b[39mformat(\u001b[38;5;241m30\u001b[39m\u001b[38;5;241m+\u001b[39m\u001b[38;5;241m30\u001b[39m\u001b[38;5;241m*\u001b[39mr,\u001b[38;5;241m10\u001b[39m\u001b[38;5;241m+\u001b[39m\u001b[38;5;241m10\u001b[39m\u001b[38;5;241m*\u001b[39mr))\n",
      "\u001b[1;31mNameError\u001b[0m: name 'mlp_2_models' is not defined"
     ]
    }
   ],
   "source": [
    "num_epoch = 20\n",
    "\n",
    "#So loss array should directly correspond to the amount of epoch and the number of different models\n",
    "loss_array = []\n",
    "\n",
    "r = 0\n",
    "for k in mlp_2_models:\n",
    "    loss_array.append(traning_func(num_epoch,k,r+1))\n",
    "    \n",
    "    print(\"MLP-2 Model with two hidden layers: First: {}, Second: {} is now trained\".format(30+30*r,10+10*r))\n",
    "    r = r +1\n",
    "        \n",
    "print(\"Training is completed\")"
   ]
  },
  {
   "cell_type": "markdown",
   "id": "0d3d55ff",
   "metadata": {},
   "source": [
    "## Testing"
   ]
  },
  {
   "cell_type": "code",
   "execution_count": 7,
   "id": "8f74fc34",
   "metadata": {},
   "outputs": [],
   "source": [
    "def test_func(model): \n",
    "\n",
    "    correct = 0\n",
    "    total = 0\n",
    "\n",
    "    with torch.no_grad():\n",
    "        for images, labels in test_loader:\n",
    "        \n",
    "            images = images.view(images.shape[0],-1)\n",
    "\n",
    "            output = model(images)\n",
    "        \n",
    "            _, predicted = torch.max(output.data,1)\n",
    "            total += labels.size(0)\n",
    "            correct += (predicted == labels).sum().item()\n",
    "\n",
    "    print(\"Accuracy of the network: {} %\".format(100*correct//total))\n",
    "    "
   ]
  },
  {
   "cell_type": "markdown",
   "id": "806f8853",
   "metadata": {},
   "source": [
    "## Inference performance"
   ]
  },
  {
   "cell_type": "code",
   "execution_count": 8,
   "id": "68fdc0c0",
   "metadata": {},
   "outputs": [],
   "source": [
    "import torch.autograd.profiler as profiler\n",
    "\n",
    "def inference_func(model):\n",
    "    with profiler.profile(record_shapes=True,profile_memory=True) as prof:\n",
    "        with torch.no_grad():\n",
    "            \n",
    "            #output = model(test_data)\n",
    "            test_func(model)\n",
    "\n",
    "    cpu_time = prof.self_cpu_time_total\n",
    "    memory_summary = prof.key_averages().table(sort_by=\"self_cpu_memory_usage\", row_limit=10)\n",
    "    \n",
    "    print(f\"Total CPU Time: {cpu_time*10**-6} seconds\")\n",
    "    print(memory_summary)\n",
    "  "
   ]
  },
  {
   "cell_type": "markdown",
   "id": "7eeaecf1",
   "metadata": {},
   "source": [
    "## All the data for MLP-1"
   ]
  },
  {
   "cell_type": "code",
   "execution_count": 9,
   "id": "536b0613",
   "metadata": {},
   "outputs": [
    {
     "name": "stdout",
     "output_type": "stream",
     "text": [
      "Model: MLP-2 with 30 and 10 neurons in hidden layers\n",
      "Accuracy of the network: 95 %\n",
      "Total CPU Time: 1.8650399999999998 seconds\n",
      "-------------------------------------------------------  ------------  ------------  ------------  ------------  ------------  ------------  ------------  ------------  \n",
      "                                                   Name    Self CPU %      Self CPU   CPU total %     CPU total  CPU time avg       CPU Mem  Self CPU Mem    # of Calls  \n",
      "-------------------------------------------------------  ------------  ------------  ------------  ------------  ------------  ------------  ------------  ------------  \n",
      "                                    aten::empty_strided         1.93%      36.086ms         1.93%      36.086ms       1.775us      30.00 Mb      30.00 Mb         20334  \n",
      "                                              aten::cat         0.32%       6.020ms         0.32%       6.020ms      18.024us      29.91 Mb      29.91 Mb           334  \n",
      "                                              aten::div         3.58%      66.813ms         7.81%     145.722ms      14.572us      29.91 Mb      29.87 Mb         10000  \n",
      "                                            aten::addmm         1.87%      34.867ms         2.25%      41.896ms      41.812us       1.91 Mb       1.91 Mb          1002  \n",
      "                                        aten::clamp_min         0.20%       3.812ms         0.20%       3.812ms       5.707us       1.53 Mb       1.53 Mb           668  \n",
      "                                               aten::to         1.78%      33.210ms        11.30%     210.755ms       6.872us      30.02 Mb     242.07 Kb         30668  \n",
      "                                              aten::max         0.36%       6.806ms         0.59%      10.932ms      32.731us     117.19 Kb     117.19 Kb           334  \n",
      "                                            aten::empty         0.05%     889.000us         0.05%     889.000us       2.654us      76.49 Kb      76.49 Kb           335  \n",
      "                                         aten::_to_copy         5.12%      95.517ms        10.10%     188.278ms       9.259us      30.02 Mb      23.98 Kb         20334  \n",
      "                                               aten::eq         0.10%       1.891ms         0.10%       1.891ms       5.662us       9.77 Kb       9.77 Kb           334  \n",
      "-------------------------------------------------------  ------------  ------------  ------------  ------------  ------------  ------------  ------------  ------------  \n",
      "Self CPU time total: 1.865s\n",
      "\n",
      "______________________________________________________________________\n",
      "Model: MLP-2 with 60 and 20 neurons in hidden layers\n",
      "Accuracy of the network: 96 %\n",
      "Total CPU Time: 1.99759 seconds\n",
      "-------------------------------------------------------  ------------  ------------  ------------  ------------  ------------  ------------  ------------  ------------  \n",
      "                                                   Name    Self CPU %      Self CPU   CPU total %     CPU total  CPU time avg       CPU Mem  Self CPU Mem    # of Calls  \n",
      "-------------------------------------------------------  ------------  ------------  ------------  ------------  ------------  ------------  ------------  ------------  \n",
      "                                    aten::empty_strided         2.05%      40.908ms         2.05%      40.908ms       2.012us      30.01 Mb      30.01 Mb         20334  \n",
      "                                              aten::cat         0.33%       6.512ms         0.33%       6.512ms      19.497us      29.91 Mb      29.91 Mb           334  \n",
      "                                              aten::div         3.66%      73.116ms         7.85%     156.891ms      15.689us      29.91 Mb      29.87 Mb         10000  \n",
      "                                            aten::addmm         1.93%      38.501ms         2.33%      46.501ms      46.408us       3.43 Mb       3.43 Mb          1002  \n",
      "                                        aten::clamp_min         0.22%       4.476ms         0.22%       4.476ms       6.701us       3.05 Mb       3.05 Mb           668  \n",
      "                                               aten::to         1.81%      36.234ms        11.52%     230.197ms       7.506us      30.02 Mb     448.45 Kb         30668  \n",
      "                                              aten::max         0.37%       7.418ms         0.60%      11.934ms      35.731us     117.19 Kb     117.19 Kb           334  \n",
      "                                            aten::empty         0.05%     908.000us         0.05%     908.000us       2.710us      76.02 Kb      76.02 Kb           335  \n",
      "                                         aten::_to_copy         5.15%     102.911ms        10.24%     204.531ms      10.059us      30.02 Mb      11.79 Kb         20334  \n",
      "                                               aten::eq         0.10%       1.982ms         0.10%       1.982ms       5.934us       9.77 Kb       9.77 Kb           334  \n",
      "-------------------------------------------------------  ------------  ------------  ------------  ------------  ------------  ------------  ------------  ------------  \n",
      "Self CPU time total: 1.998s\n",
      "\n",
      "______________________________________________________________________\n",
      "Model: MLP-2 with 90 and 30 neurons in hidden layers\n",
      "Accuracy of the network: 96 %\n",
      "Total CPU Time: 2.058217 seconds\n",
      "-------------------------------------------------------  ------------  ------------  ------------  ------------  ------------  ------------  ------------  ------------  \n",
      "                                                   Name    Self CPU %      Self CPU   CPU total %     CPU total  CPU time avg       CPU Mem  Self CPU Mem    # of Calls  \n",
      "-------------------------------------------------------  ------------  ------------  ------------  ------------  ------------  ------------  ------------  ------------  \n",
      "                                    aten::empty_strided         1.94%      40.029ms         1.94%      40.029ms       1.969us      30.00 Mb      30.00 Mb         20334  \n",
      "                                              aten::cat         0.34%       7.086ms         0.34%       7.086ms      21.216us      29.91 Mb      29.91 Mb           334  \n",
      "                                              aten::div         3.65%      75.030ms         7.87%     161.904ms      16.190us      29.91 Mb      29.87 Mb         10000  \n",
      "                                            aten::addmm         2.36%      48.475ms         2.76%      56.904ms      56.790us       4.96 Mb       4.96 Mb          1002  \n",
      "                                        aten::clamp_min         0.24%       4.924ms         0.24%       4.924ms       7.371us       4.58 Mb       4.58 Mb           668  \n",
      "                                               aten::to         1.75%      36.109ms        11.34%     233.360ms       7.609us      30.02 Mb     462.95 Kb         30668  \n",
      "                                              aten::max         0.36%       7.425ms         0.58%      11.979ms      35.865us     117.19 Kb     117.19 Kb           334  \n",
      "                                            aten::empty         0.05%       1.023ms         0.05%       1.023ms       3.054us      76.49 Kb      76.49 Kb           335  \n",
      "                                         aten::_to_copy         5.06%     104.145ms        10.03%     206.341ms      10.148us      30.02 Mb      18.79 Kb         20334  \n",
      "                                           aten::linear         0.22%       4.506ms         3.40%      69.914ms      69.774us       4.96 Mb      17.58 Kb          1002  \n",
      "-------------------------------------------------------  ------------  ------------  ------------  ------------  ------------  ------------  ------------  ------------  \n",
      "Self CPU time total: 2.058s\n",
      "\n",
      "______________________________________________________________________\n",
      "Model: MLP-2 with 120 and 40 neurons in hidden layers\n",
      "Accuracy of the network: 96 %\n",
      "Total CPU Time: 2.060857 seconds\n",
      "-------------------------------------------------------  ------------  ------------  ------------  ------------  ------------  ------------  ------------  ------------  \n",
      "                                                   Name    Self CPU %      Self CPU   CPU total %     CPU total  CPU time avg       CPU Mem  Self CPU Mem    # of Calls  \n",
      "-------------------------------------------------------  ------------  ------------  ------------  ------------  ------------  ------------  ------------  ------------  \n",
      "                                    aten::empty_strided         1.82%      37.440ms         1.82%      37.440ms       1.841us      30.01 Mb      30.01 Mb         20334  \n",
      "                                              aten::cat         0.32%       6.528ms         0.32%       6.528ms      19.545us      29.91 Mb      29.91 Mb           334  \n",
      "                                              aten::div         3.67%      75.617ms         7.76%     159.847ms      15.985us      29.91 Mb      29.87 Mb         10000  \n",
      "                                            aten::addmm         2.54%      52.355ms         2.95%      60.754ms      60.633us       6.48 Mb       6.48 Mb          1002  \n",
      "                                        aten::clamp_min         0.26%       5.340ms         0.26%       5.340ms       7.994us       6.10 Mb       6.10 Mb           668  \n",
      "                                               aten::to         1.76%      36.293ms        11.18%     230.436ms       7.514us      30.02 Mb     545.69 Kb         30668  \n",
      "                                              aten::max         0.36%       7.323ms         0.58%      11.956ms      35.796us     117.19 Kb     117.19 Kb           334  \n",
      "                                             aten::relu         0.09%       1.855ms         0.34%       7.096ms      10.623us       6.10 Mb      98.44 Kb           668  \n",
      "                                            aten::empty         0.05%       1.058ms         0.05%       1.058ms       3.158us      77.43 Kb      77.43 Kb           335  \n",
      "                                         aten::_to_copy         5.01%     103.257ms         9.87%     203.390ms      10.002us      30.02 Mb      16.54 Kb         20334  \n",
      "-------------------------------------------------------  ------------  ------------  ------------  ------------  ------------  ------------  ------------  ------------  \n",
      "Self CPU time total: 2.061s\n",
      "\n",
      "______________________________________________________________________\n",
      "Model: MLP-2 with 150 and 50 neurons in hidden layers\n"
     ]
    },
    {
     "name": "stdout",
     "output_type": "stream",
     "text": [
      "Accuracy of the network: 96 %\n",
      "Total CPU Time: 1.971328 seconds\n",
      "-------------------------------------------------------  ------------  ------------  ------------  ------------  ------------  ------------  ------------  ------------  \n",
      "                                                   Name    Self CPU %      Self CPU   CPU total %     CPU total  CPU time avg       CPU Mem  Self CPU Mem    # of Calls  \n",
      "-------------------------------------------------------  ------------  ------------  ------------  ------------  ------------  ------------  ------------  ------------  \n",
      "                                    aten::empty_strided         1.89%      37.302ms         1.89%      37.302ms       1.834us      29.99 Mb      29.99 Mb         20334  \n",
      "                                              aten::cat         0.34%       6.615ms         0.34%       6.615ms      19.805us      29.91 Mb      29.91 Mb           334  \n",
      "                                              aten::div         3.59%      70.854ms         7.64%     150.638ms      15.064us      29.91 Mb      29.87 Mb         10000  \n",
      "                                            aten::addmm         3.12%      61.528ms         3.53%      69.505ms      69.366us       8.01 Mb       8.01 Mb          1002  \n",
      "                                        aten::clamp_min         0.29%       5.628ms         0.29%       5.628ms       8.425us       7.63 Mb       7.63 Mb           668  \n",
      "                                               aten::to         1.75%      34.420ms        11.14%     219.579ms       7.160us      30.02 Mb     380.33 Kb         30668  \n",
      "                                              aten::max         0.36%       7.109ms         0.58%      11.516ms      34.479us     117.19 Kb     117.19 Kb           334  \n",
      "                                            aten::empty         0.06%       1.114ms         0.06%       1.114ms       3.325us      76.49 Kb      76.49 Kb           335  \n",
      "                                         aten::_to_copy         4.97%      97.992ms         9.87%     194.530ms       9.567us      30.02 Mb      36.52 Kb         20334  \n",
      "                                             aten::relu         0.09%       1.771ms         0.37%       7.384ms      11.054us       7.63 Mb      17.58 Kb           668  \n",
      "-------------------------------------------------------  ------------  ------------  ------------  ------------  ------------  ------------  ------------  ------------  \n",
      "Self CPU time total: 1.971s\n",
      "\n",
      "______________________________________________________________________\n",
      "Model: MLP-2 with 180 and 60 neurons in hidden layers\n",
      "Accuracy of the network: 97 %\n",
      "Total CPU Time: 1.9959179999999999 seconds\n",
      "-------------------------------------------------------  ------------  ------------  ------------  ------------  ------------  ------------  ------------  ------------  \n",
      "                                                   Name    Self CPU %      Self CPU   CPU total %     CPU total  CPU time avg       CPU Mem  Self CPU Mem    # of Calls  \n",
      "-------------------------------------------------------  ------------  ------------  ------------  ------------  ------------  ------------  ------------  ------------  \n",
      "                                    aten::empty_strided         1.82%      36.226ms         1.82%      36.226ms       1.782us      30.00 Mb      30.00 Mb         20334  \n",
      "                                              aten::cat         0.33%       6.554ms         0.33%       6.554ms      19.623us      29.91 Mb      29.91 Mb           334  \n",
      "                                              aten::div         3.61%      72.060ms         7.59%     151.503ms      15.150us      29.91 Mb      29.87 Mb         10000  \n",
      "                                            aten::addmm         3.48%      69.378ms         3.89%      77.717ms      77.562us       9.54 Mb       9.54 Mb          1002  \n",
      "                                        aten::clamp_min         0.31%       6.271ms         0.31%       6.271ms       9.388us       9.16 Mb       9.16 Mb           668  \n",
      "                                               aten::to         1.68%      33.432ms        11.00%     219.612ms       7.161us      30.02 Mb     390.71 Kb         30668  \n",
      "                                              aten::max         0.37%       7.330ms         0.60%      11.879ms      35.566us     117.19 Kb     117.19 Kb           334  \n",
      "                                            aten::empty         0.05%     979.000us         0.05%     979.000us       2.922us      75.79 Kb      75.79 Kb           335  \n",
      "                                             aten::relu         0.10%       1.917ms         0.41%       8.134ms      12.177us       9.16 Mb      56.25 Kb           668  \n",
      "                                           aten::linear         0.23%       4.515ms         4.53%      90.416ms      90.236us       9.54 Mb      29.30 Kb          1002  \n",
      "-------------------------------------------------------  ------------  ------------  ------------  ------------  ------------  ------------  ------------  ------------  \n",
      "Self CPU time total: 1.996s\n",
      "\n",
      "______________________________________________________________________\n",
      "Model: MLP-2 with 210 and 70 neurons in hidden layers\n",
      "Accuracy of the network: 97 %\n",
      "Total CPU Time: 1.986227 seconds\n",
      "-------------------------------------------------------  ------------  ------------  ------------  ------------  ------------  ------------  ------------  ------------  \n",
      "                                                   Name    Self CPU %      Self CPU   CPU total %     CPU total  CPU time avg       CPU Mem  Self CPU Mem    # of Calls  \n",
      "-------------------------------------------------------  ------------  ------------  ------------  ------------  ------------  ------------  ------------  ------------  \n",
      "                                    aten::empty_strided         1.79%      35.652ms         1.79%      35.652ms       1.753us      30.01 Mb      30.01 Mb         20334  \n",
      "                                              aten::cat         0.32%       6.302ms         0.32%       6.302ms      18.868us      29.91 Mb      29.91 Mb           334  \n",
      "                                              aten::div         3.59%      71.341ms         7.57%     150.343ms      15.034us      29.91 Mb      29.87 Mb         10000  \n",
      "                                            aten::addmm         3.75%      74.416ms         4.15%      82.439ms      82.274us      11.06 Mb      11.06 Mb          1002  \n",
      "                                        aten::clamp_min         0.33%       6.475ms         0.33%       6.475ms       9.693us      10.68 Mb      10.68 Mb           668  \n",
      "                                               aten::to         1.71%      33.949ms        11.01%     218.705ms       7.131us      30.02 Mb     422.17 Kb         30668  \n",
      "                                             aten::relu         0.09%       1.831ms         0.41%       8.168ms      12.228us      10.68 Mb     229.69 Kb           668  \n",
      "                                              aten::max         0.37%       7.363ms         0.59%      11.753ms      35.189us     117.19 Kb     117.19 Kb           334  \n",
      "                                            aten::empty         0.05%     936.000us         0.05%     936.000us       2.794us      75.32 Kb      75.32 Kb           335  \n",
      "                                         aten::_to_copy         4.98%      98.973ms         9.75%     193.612ms       9.522us      30.02 Mb      15.73 Kb         20334  \n",
      "-------------------------------------------------------  ------------  ------------  ------------  ------------  ------------  ------------  ------------  ------------  \n",
      "Self CPU time total: 1.986s\n",
      "\n",
      "______________________________________________________________________\n",
      "Model: MLP-2 with 240 and 80 neurons in hidden layers\n",
      "Accuracy of the network: 97 %\n",
      "Total CPU Time: 1.9669709999999998 seconds\n",
      "-------------------------------------------------------  ------------  ------------  ------------  ------------  ------------  ------------  ------------  ------------  \n",
      "                                                   Name    Self CPU %      Self CPU   CPU total %     CPU total  CPU time avg       CPU Mem  Self CPU Mem    # of Calls  \n",
      "-------------------------------------------------------  ------------  ------------  ------------  ------------  ------------  ------------  ------------  ------------  \n",
      "                                    aten::empty_strided         1.80%      35.379ms         1.80%      35.379ms       1.740us      29.98 Mb      29.98 Mb         20334  \n",
      "                                              aten::cat         0.32%       6.353ms         0.32%       6.353ms      19.021us      29.91 Mb      29.91 Mb           334  \n",
      "                                              aten::div         3.55%      69.907ms         7.56%     148.723ms      14.872us      29.91 Mb      29.87 Mb         10000  \n",
      "                                            aten::addmm         4.07%      80.045ms         4.48%      88.047ms      87.871us      12.59 Mb      12.59 Mb          1002  \n",
      "                                        aten::clamp_min         0.36%       6.984ms         0.36%       6.984ms      10.455us      12.21 Mb      12.21 Mb           668  \n",
      "                                               aten::to         1.74%      34.208ms        10.89%     214.241ms       6.986us      30.02 Mb     343.09 Kb         30668  \n",
      "                                             aten::relu         0.10%       1.899ms         0.45%       8.780ms      13.144us      12.21 Mb     159.38 Kb           668  \n",
      "                                              aten::max         0.36%       7.052ms         0.58%      11.401ms      34.135us     117.19 Kb     117.19 Kb           334  \n",
      "                                            aten::empty         0.05%     920.000us         0.05%     920.000us       2.746us      75.55 Kb      75.55 Kb           335  \n",
      "                                         aten::_to_copy         4.91%      96.664ms         9.67%     190.213ms       9.354us      30.02 Mb      44.86 Kb         20334  \n",
      "-------------------------------------------------------  ------------  ------------  ------------  ------------  ------------  ------------  ------------  ------------  \n",
      "Self CPU time total: 1.967s\n",
      "\n",
      "______________________________________________________________________\n",
      "Model: MLP-2 with 270 and 90 neurons in hidden layers\n"
     ]
    },
    {
     "name": "stdout",
     "output_type": "stream",
     "text": [
      "Accuracy of the network: 97 %\n",
      "Total CPU Time: 2.020911 seconds\n",
      "-------------------------------------------------------  ------------  ------------  ------------  ------------  ------------  ------------  ------------  ------------  \n",
      "                                                   Name    Self CPU %      Self CPU   CPU total %     CPU total  CPU time avg       CPU Mem  Self CPU Mem    # of Calls  \n",
      "-------------------------------------------------------  ------------  ------------  ------------  ------------  ------------  ------------  ------------  ------------  \n",
      "                                    aten::empty_strided         1.79%      36.195ms         1.79%      36.195ms       1.780us      29.98 Mb      29.98 Mb         20334  \n",
      "                                              aten::cat         0.32%       6.493ms         0.32%       6.493ms      19.440us      29.91 Mb      29.91 Mb           334  \n",
      "                                              aten::div         3.63%      73.345ms         7.58%     153.119ms      15.312us      29.91 Mb      29.87 Mb         10000  \n",
      "                                            aten::addmm         4.66%      94.101ms         5.07%     102.467ms     102.262us      14.11 Mb      14.11 Mb          1002  \n",
      "                                        aten::clamp_min         0.37%       7.400ms         0.37%       7.400ms      11.078us      13.73 Mb      13.73 Mb           668  \n",
      "                                               aten::to         1.65%      33.415ms        10.88%     219.850ms       7.169us      30.02 Mb     412.55 Kb         30668  \n",
      "                                              aten::max         0.36%       7.237ms         0.58%      11.757ms      35.201us     117.19 Kb     117.19 Kb           334  \n",
      "                                             aten::relu         0.10%       1.999ms         0.46%       9.326ms      13.961us      13.73 Mb     105.47 Kb           668  \n",
      "                                            aten::empty         0.05%     943.000us         0.05%     943.000us       2.815us      75.79 Kb      75.79 Kb           335  \n",
      "                                         aten::_to_copy         4.85%      97.937ms         9.65%     194.938ms       9.587us      30.02 Mb      46.61 Kb         20334  \n",
      "-------------------------------------------------------  ------------  ------------  ------------  ------------  ------------  ------------  ------------  ------------  \n",
      "Self CPU time total: 2.021s\n",
      "\n",
      "______________________________________________________________________\n",
      "Model: MLP-2 with 300 and 100 neurons in hidden layers\n",
      "Accuracy of the network: 97 %\n",
      "Total CPU Time: 2.061518 seconds\n",
      "-------------------------------------------------------  ------------  ------------  ------------  ------------  ------------  ------------  ------------  ------------  \n",
      "                                                   Name    Self CPU %      Self CPU   CPU total %     CPU total  CPU time avg       CPU Mem  Self CPU Mem    # of Calls  \n",
      "-------------------------------------------------------  ------------  ------------  ------------  ------------  ------------  ------------  ------------  ------------  \n",
      "                                    aten::empty_strided         1.77%      36.574ms         1.77%      36.574ms       1.799us      29.97 Mb      29.97 Mb         20334  \n",
      "                                              aten::cat         0.31%       6.491ms         0.31%       6.491ms      19.434us      29.91 Mb      29.91 Mb           334  \n",
      "                                              aten::div         3.76%      77.531ms         7.71%     158.922ms      15.892us      29.91 Mb      29.87 Mb         10000  \n",
      "                                            aten::addmm         4.98%     102.609ms         5.40%     111.345ms     111.123us      15.64 Mb      15.64 Mb          1002  \n",
      "                                        aten::clamp_min         0.39%       8.079ms         0.39%       8.079ms      12.094us      15.26 Mb      15.26 Mb           668  \n",
      "                                               aten::to         1.71%      35.318ms        10.87%     224.054ms       7.306us      30.02 Mb     492.72 Kb         30668  \n",
      "                                             aten::relu         0.09%       1.957ms         0.48%       9.916ms      14.844us      15.26 Mb     210.94 Kb           668  \n",
      "                                              aten::max         0.36%       7.407ms         0.59%      12.116ms      36.275us     117.19 Kb     117.19 Kb           334  \n",
      "                                            aten::empty         0.05%     962.000us         0.05%     962.000us       2.872us      76.73 Kb      76.73 Kb           335  \n",
      "                                         aten::_to_copy         4.88%     100.576ms         9.59%     197.630ms       9.719us      30.02 Mb      51.30 Kb         20334  \n",
      "-------------------------------------------------------  ------------  ------------  ------------  ------------  ------------  ------------  ------------  ------------  \n",
      "Self CPU time total: 2.062s\n",
      "\n",
      "______________________________________________________________________\n"
     ]
    }
   ],
   "source": [
    "#We can use the below code if we want\n",
    "\n",
    "#single_data_entry, target = next(iter(test_loader))\n",
    "#single_data_entry = single_data_entry.view(single_data_entry.shape[0], -1)\n",
    "\n",
    "\n",
    "for k in range(10):\n",
    "    \n",
    "    loaded_model = MLP(30*k+30,10*k+10)  # Create an instance of the model\n",
    "    loaded_model.load_state_dict(torch.load(f'MLP_2_{30*k+30}_{10*k+10}.pth'))\n",
    "    \n",
    "    print(f\"Model: MLP-2 with {30*k+30} and {10*k+10} neurons in hidden layers\")\n",
    "    inference_func(loaded_model)\n",
    "   \n",
    "    \n",
    "    print(\"______________________________________________________________________\")\n"
   ]
  },
  {
   "cell_type": "code",
   "execution_count": 21,
   "id": "9b9dae66",
   "metadata": {},
   "outputs": [
    {
     "name": "stderr",
     "output_type": "stream",
     "text": [
      "No artists with labels found to put in legend.  Note that artists whose label start with an underscore are ignored when legend() is called with no argument.\n"
     ]
    },
    {
     "data": {
      "image/png": "[encoded data removed]",
      "text/plain": [
       "<Figure size 640x480 with 1 Axes>"
      ]
     },
     "metadata": {},
     "output_type": "display_data"
    }
   ],
   "source": [
    "import numpy as np\n",
    "import matplotlib.pyplot as plt\n",
    "\n",
    "\n",
    "def plot_loss(numpy_array_data, epo):\n",
    "    plt.figure()\n",
    "    plt.plot(range(1,epo+1), numpy_array_data, color=\"blue\")\n",
    "    plt.xlabel(\"Epoch\")\n",
    "    plt.ylabel(\"Loss\")\n",
    "    plt.title(\"Loss\")\n",
    "    plt.legend()\n",
    "\n",
    "plot_loss(loss_array[0], 20)\n",
    "plt.show()\n",
    "\n"
   ]
  },
  {
   "cell_type": "code",
   "execution_count": null,
   "id": "db464ed2",
   "metadata": {},
   "outputs": [],
   "source": []
  }
 ],
 "metadata": {
  "kernelspec": {
   "display_name": "Python 3 (ipykernel)",
   "language": "python",
   "name": "python3"
  },
  "language_info": {
   "codemirror_mode": {
    "name": "ipython",
    "version": 3
   },
   "file_extension": ".py",
   "mimetype": "text/x-python",
   "name": "python",
   "nbconvert_exporter": "python",
   "pygments_lexer": "ipython3",
   "version": "3.11.5"
  }
 },
 "nbformat": 4,
 "nbformat_minor": 5
}
